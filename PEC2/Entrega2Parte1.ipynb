{
 "cells": [
  {
   "cell_type": "markdown",
   "metadata": {
    "collapsed": true
   },
   "source": [
    "# Prueba de evaluación continua 2\n",
    "## Parte 1: Board de 4chan\n",
    "***\n",
    "- Autor: Juan A. García Cuevas\n",
    "- Fecha: 16/10/2016\n",
    "***"
   ]
  },
  {
   "cell_type": "markdown",
   "metadata": {},
   "source": [
    "# Enunciado\n",
    "En esta primera parte trabajaremos con el API REST de 4chan: https://github.com/4chan/4chan-API (es conveniente tratar de comprender los campos que devuelve el JSON antes de comenzar, siguiendo el ejemplo de clase)\n",
    "Se pide lo siguiente:\n",
    "- Obtener una muestra de dos boards de 4chan, sacando una instantánea concreta (todas las páginas de cada board). Solo es necesario obtener la información requerida para los puntos siguientes, no es necesario procesar todo.\n",
    "- Contrastar diferencias en la media de respuestas por post en los dos boards elegidos.\n",
    "- Obtener la distribución del tamaño de las imágenes en los posts de uno de los boards."
   ]
  },
  {
   "cell_type": "markdown",
   "metadata": {
    "collapsed": true
   },
   "source": [
    "# Resolución"
   ]
  },
  {
   "cell_type": "code",
   "execution_count": 1,
   "metadata": {
    "collapsed": true
   },
   "outputs": [],
   "source": [
    "# Importamos algunas librerías\n",
    "import requests as rq\n",
    "import json\n",
    "import pandas as pd\n",
    "import numpy as np\n",
    "import seaborn as sns\n",
    "from time import time \n",
    "from ipykernel import kernelapp as app\n",
    "\n",
    "# Para que los gráficos se muestren en el notebook\n",
    "import matplotlib.pyplot as plt \n",
    "%matplotlib inline"
   ]
  },
  {
   "cell_type": "markdown",
   "metadata": {},
   "source": [
    "# Descarga de información de internet"
   ]
  },
  {
   "cell_type": "code",
   "execution_count": 2,
   "metadata": {
    "collapsed": false
   },
   "outputs": [
    {
     "name": "stdout",
     "output_type": "stream",
     "text": [
      "\n",
      "*** Lista de boards: [u'3DCG' u'Anime & Manga' u'Adult Cartoons' u'Advice' u'Animals & Nature'\n",
      " u'Alternative Sports & Wrestling' u'Random' u'Business & Finance'\n",
      " u'Anime/Cute' u'Cosplay & EGL' u'Food & Cooking' u'Cute/Male'\n",
      " u'Comics & Cartoons' u'Hentai/Alternative' u'Do It Yourself' u'Ecchi'\n",
      " u'Flash' u'Fashion' u'Fitness' u'Technology' u'Graphic Design'\n",
      " u'Adult GIF' u'Hentai' u'Hardcore' u'History & Humanities' u'Handsome Men'\n",
      " u'High Resolution' u'Oekaki' u'Artwork/Critique' u'International'\n",
      " u'Otaku Culture' u'Weapons' u'LGBT' u'Literature' u'Mecha' u'Pony'\n",
      " u'Music' u'Transportation' u'Current News' u'Auto' u'Outdoors'\n",
      " u'Photography' u'Papercraft & Origami' u'Politically Incorrect'\n",
      " u'Question & Answer' u'Quests' u'Adult Requests' u'ROBOT9001'\n",
      " u'Sexy Beautiful Women' u'Shit 4chan Says' u'Science & Math'\n",
      " u'Cams & Meetups' u'Sports' u'Torrents' u'Traditional Games' u'Toys'\n",
      " u'Off-Topic' u'Travel' u'Television & Film' u'Yuri' u'Video Games'\n",
      " u'Video Game Generals' u'Very Important Posts' u'Pok\\xe9mon'\n",
      " u'Retro Games' u'Anime/Wallpapers' u'Wallpapers/General' u'Worksafe GIF'\n",
      " u'Worksafe Requests' u'Paranormal' u'Yaoi']\n",
      "\n",
      "*** Dimensiones del data frame: (71, 3)\n",
      "\n",
      "*** Muestra del data frame:\n"
     ]
    },
    {
     "data": {
      "text/html": [
       "<div>\n",
       "<table border=\"1\" class=\"dataframe\">\n",
       "  <thead>\n",
       "    <tr style=\"text-align: right;\">\n",
       "      <th></th>\n",
       "      <th>title</th>\n",
       "      <th>meta_description</th>\n",
       "      <th>pages</th>\n",
       "    </tr>\n",
       "  </thead>\n",
       "  <tbody>\n",
       "    <tr>\n",
       "      <th>3</th>\n",
       "      <td>3DCG</td>\n",
       "      <td>&amp;quot;/3/ - 3DCG&amp;quot; is 4chan's board for 3D...</td>\n",
       "      <td>10.0</td>\n",
       "    </tr>\n",
       "    <tr>\n",
       "      <th>a</th>\n",
       "      <td>Anime &amp; Manga</td>\n",
       "      <td>&amp;quot;/a/ - Anime &amp;amp; Manga&amp;quot; is 4chan's...</td>\n",
       "      <td>10.0</td>\n",
       "    </tr>\n",
       "    <tr>\n",
       "      <th>aco</th>\n",
       "      <td>Adult Cartoons</td>\n",
       "      <td>&amp;quot;/aco/ - Adult Cartoons&amp;quot; is 4chan's ...</td>\n",
       "      <td>10.0</td>\n",
       "    </tr>\n",
       "    <tr>\n",
       "      <th>adv</th>\n",
       "      <td>Advice</td>\n",
       "      <td>&amp;quot;/adv/ - Advice&amp;quot; is 4chan's board fo...</td>\n",
       "      <td>10.0</td>\n",
       "    </tr>\n",
       "    <tr>\n",
       "      <th>an</th>\n",
       "      <td>Animals &amp; Nature</td>\n",
       "      <td>&amp;quot;/an/ - Animals &amp;amp; Nature&amp;quot; is 4ch...</td>\n",
       "      <td>10.0</td>\n",
       "    </tr>\n",
       "  </tbody>\n",
       "</table>\n",
       "</div>"
      ],
      "text/plain": [
       "                title                                   meta_description  \\\n",
       "3                3DCG  &quot;/3/ - 3DCG&quot; is 4chan's board for 3D...   \n",
       "a       Anime & Manga  &quot;/a/ - Anime &amp; Manga&quot; is 4chan's...   \n",
       "aco    Adult Cartoons  &quot;/aco/ - Adult Cartoons&quot; is 4chan's ...   \n",
       "adv            Advice  &quot;/adv/ - Advice&quot; is 4chan's board fo...   \n",
       "an   Animals & Nature  &quot;/an/ - Animals &amp; Nature&quot; is 4ch...   \n",
       "\n",
       "     pages  \n",
       "3     10.0  \n",
       "a     10.0  \n",
       "aco   10.0  \n",
       "adv   10.0  \n",
       "an    10.0  "
      ]
     },
     "execution_count": 2,
     "metadata": {},
     "output_type": "execute_result"
    }
   ],
   "source": [
    "# Descargamos de internet la url que propone la página web del API, en formato JSON\n",
    "query = rq.get('https://a.4cdn.org/boards.json')\n",
    "\n",
    "# Parseamos el JSON\n",
    "boards = json.loads(query.text) \n",
    "\n",
    "# Creamos un dataframe con los datos descargados y parseados\n",
    "df = pd.DataFrame(columns=[\"title\", \"meta_description\", \"pages\"])\n",
    "for board in boards[\"boards\"]:\n",
    "    title = board[\"title\"]\n",
    "    metadesc = board[\"meta_description\"]\n",
    "    page = int(board[\"pages\"])\n",
    "    df.loc[board[\"board\"]] = [title, metadesc,  page] \n",
    "\n",
    "# Mostramos información del dataframe\n",
    "print '\\n*** Lista de boards:', df[\"title\"].unique()\n",
    "print '\\n*** Dimensiones del data frame:', df.shape\n",
    "print '\\n*** Muestra del data frame:'\n",
    "df.head()"
   ]
  },
  {
   "cell_type": "code",
   "execution_count": 3,
   "metadata": {
    "collapsed": false
   },
   "outputs": [],
   "source": [
    "# Creamos una función para descargar las páginas de un board de 4chan\n",
    "def downloadBoardPages(board, name):\n",
    "    print '- Título.......:', board['title']\n",
    "    print '- Nº de páginas:', board['pages']\n",
    "\n",
    "    # Crea el dataframe donde almacenar los datos\n",
    "    df_result = pd.DataFrame(columns=['id', 'idPost', 'replies', 'fsize', 'ext'])\n",
    "\n",
    "    # Toma el tiempo al inicio del proceso de descarga y parseo\n",
    "    time_start = time()\n",
    "\n",
    "    # Obtiene el número de páginas del board\n",
    "    num_pages = board['pages'].astype(np.int32) \n",
    "\n",
    "    # Descarga las páginas y parsea su contenido\n",
    "    count_threads = 0\n",
    "    count_posts = 0\n",
    "    for p in range(1, num_pages + 1):\n",
    "        # Construye la url de la página del board\n",
    "        url = 'https://a.4cdn.org/' + name + '/'+ str(p) +'.json'\n",
    "        print '*** Descargando página', p, ':', url, '...'\n",
    "        # Descarga el contenido de la url\n",
    "        url_content = rq.get(url)\n",
    "        # Transforma la información en un objeto JSON\n",
    "        obj_json = json.loads(url_content.text)\n",
    "        # Recorre los hilos del objeto\n",
    "        for hilo in obj_json['threads']:\n",
    "            count_threads = count_threads + 1\n",
    "            # Recorre los post del objeto\n",
    "            for post in hilo['posts']:\n",
    "                count_posts = count_posts + 1\n",
    "                id_post = post['no']\n",
    "                replies = 0\n",
    "                fsize = 0\n",
    "                ext = ''\n",
    "                if ('replies' in post):\n",
    "                    replies = int(post['replies'])\n",
    "                if ('fsize' in post):\n",
    "                    fsize = float(post['fsize'])\n",
    "                if ('ext' in post):\n",
    "                    ext = post['ext'] \n",
    "                df_result.loc[id_post] = [str(count_threads), id_post, replies, fsize, ext]\n",
    "                #print '-', str(id), id_post, replies, fsize, ext\n",
    "    \n",
    "    # Toma el tiempo al final del proceso de descarga y parseo, y muestra el tiempo total\n",
    "    time_end = time() \n",
    "    time_exe = time_end - time_start\n",
    "    print '- Tiempo de descarga:', round(time_exe, 3), 'sg.'   \n",
    "\n",
    "    # Retorna el dataframe resultante\n",
    "    return  df_result  "
   ]
  },
  {
   "cell_type": "code",
   "execution_count": 4,
   "metadata": {
    "collapsed": false
   },
   "outputs": [],
   "source": [
    "# Seleccionaremos los board de tecnología (g - Technology) y animales y naturaleza (an - Animals & Nature)\n",
    "board_tec = df.loc['g']\n",
    "board_nat = df.loc['an']"
   ]
  },
  {
   "cell_type": "markdown",
   "metadata": {},
   "source": [
    "### Descarga del board de animales y naturaleza (an)"
   ]
  },
  {
   "cell_type": "code",
   "execution_count": 5,
   "metadata": {
    "collapsed": false
   },
   "outputs": [
    {
     "name": "stdout",
     "output_type": "stream",
     "text": [
      "- Título.......: Animals & Nature\n",
      "- Nº de páginas: 10.0\n",
      "*** Descargando página 1 : https://a.4cdn.org/an/1.json ...\n",
      "*** Descargando página 2 : https://a.4cdn.org/an/2.json ...\n",
      "*** Descargando página 3 : https://a.4cdn.org/an/3.json ...\n",
      "*** Descargando página 4 : https://a.4cdn.org/an/4.json ...\n",
      "*** Descargando página 5 : https://a.4cdn.org/an/5.json ...\n",
      "*** Descargando página 6 : https://a.4cdn.org/an/6.json ...\n",
      "*** Descargando página 7 : https://a.4cdn.org/an/7.json ...\n",
      "*** Descargando página 8 : https://a.4cdn.org/an/8.json ...\n",
      "*** Descargando página 9 : https://a.4cdn.org/an/9.json ...\n",
      "*** Descargando página 10 : https://a.4cdn.org/an/10.json ...\n",
      "- Tiempo de descarga: 13.215 sg.\n"
     ]
    }
   ],
   "source": [
    "# Descargamos las páginas del board de animales y naturaleza\n",
    "df_nat = downloadBoardPages(board_nat, 'an')"
   ]
  },
  {
   "cell_type": "code",
   "execution_count": 6,
   "metadata": {
    "collapsed": false
   },
   "outputs": [
    {
     "name": "stdout",
     "output_type": "stream",
     "text": [
      "Dimensiones....: (800, 5)\n",
      "Número de hilos: 150\n"
     ]
    },
    {
     "data": {
      "text/html": [
       "<div>\n",
       "<table border=\"1\" class=\"dataframe\">\n",
       "  <thead>\n",
       "    <tr style=\"text-align: right;\">\n",
       "      <th></th>\n",
       "      <th>id</th>\n",
       "      <th>idPost</th>\n",
       "      <th>replies</th>\n",
       "      <th>fsize</th>\n",
       "      <th>ext</th>\n",
       "    </tr>\n",
       "  </thead>\n",
       "  <tbody>\n",
       "    <tr>\n",
       "      <th>2244664</th>\n",
       "      <td>1</td>\n",
       "      <td>2244664.0</td>\n",
       "      <td>29.0</td>\n",
       "      <td>125685.0</td>\n",
       "      <td>.jpg</td>\n",
       "    </tr>\n",
       "    <tr>\n",
       "      <th>2247155</th>\n",
       "      <td>1</td>\n",
       "      <td>2247155.0</td>\n",
       "      <td>0.0</td>\n",
       "      <td>0.0</td>\n",
       "      <td></td>\n",
       "    </tr>\n",
       "    <tr>\n",
       "      <th>2247199</th>\n",
       "      <td>1</td>\n",
       "      <td>2247199.0</td>\n",
       "      <td>0.0</td>\n",
       "      <td>0.0</td>\n",
       "      <td></td>\n",
       "    </tr>\n",
       "    <tr>\n",
       "      <th>2247456</th>\n",
       "      <td>1</td>\n",
       "      <td>2247456.0</td>\n",
       "      <td>0.0</td>\n",
       "      <td>0.0</td>\n",
       "      <td></td>\n",
       "    </tr>\n",
       "    <tr>\n",
       "      <th>2247531</th>\n",
       "      <td>1</td>\n",
       "      <td>2247531.0</td>\n",
       "      <td>0.0</td>\n",
       "      <td>0.0</td>\n",
       "      <td></td>\n",
       "    </tr>\n",
       "  </tbody>\n",
       "</table>\n",
       "</div>"
      ],
      "text/plain": [
       "        id     idPost  replies     fsize   ext\n",
       "2244664  1  2244664.0     29.0  125685.0  .jpg\n",
       "2247155  1  2247155.0      0.0       0.0      \n",
       "2247199  1  2247199.0      0.0       0.0      \n",
       "2247456  1  2247456.0      0.0       0.0      \n",
       "2247531  1  2247531.0      0.0       0.0      "
      ]
     },
     "execution_count": 6,
     "metadata": {},
     "output_type": "execute_result"
    }
   ],
   "source": [
    "# Mostramos información del dataframe\n",
    "print 'Dimensiones....:', df_nat.shape\n",
    "print 'Número de hilos:', len(df_nat['id'].unique())\n",
    "df_nat.head()"
   ]
  },
  {
   "cell_type": "markdown",
   "metadata": {},
   "source": [
    "### Descarga del board de tecnología (g)"
   ]
  },
  {
   "cell_type": "code",
   "execution_count": 7,
   "metadata": {
    "collapsed": false
   },
   "outputs": [
    {
     "name": "stdout",
     "output_type": "stream",
     "text": [
      "- Título.......: Technology\n",
      "- Nº de páginas: 10.0\n",
      "*** Descargando página 1 : https://a.4cdn.org/g/1.json ...\n",
      "*** Descargando página 2 : https://a.4cdn.org/g/2.json ...\n",
      "*** Descargando página 3 : https://a.4cdn.org/g/3.json ...\n",
      "*** Descargando página 4 : https://a.4cdn.org/g/4.json ...\n",
      "*** Descargando página 5 : https://a.4cdn.org/g/5.json ...\n",
      "*** Descargando página 6 : https://a.4cdn.org/g/6.json ...\n",
      "*** Descargando página 7 : https://a.4cdn.org/g/7.json ...\n",
      "*** Descargando página 8 : https://a.4cdn.org/g/8.json ...\n",
      "*** Descargando página 9 : https://a.4cdn.org/g/9.json ...\n",
      "*** Descargando página 10 : https://a.4cdn.org/g/10.json ...\n",
      "- Tiempo de descarga: 13.324 sg.\n"
     ]
    }
   ],
   "source": [
    "# Descargamos las páginas del board de tecnología\n",
    "df_tec = downloadBoardPages(board_tec, 'g')"
   ]
  },
  {
   "cell_type": "code",
   "execution_count": 8,
   "metadata": {
    "collapsed": false
   },
   "outputs": [
    {
     "name": "stdout",
     "output_type": "stream",
     "text": [
      "Dimensiones....: (796, 5)\n",
      "Número de hilos: 150\n"
     ]
    },
    {
     "data": {
      "text/html": [
       "<div>\n",
       "<table border=\"1\" class=\"dataframe\">\n",
       "  <thead>\n",
       "    <tr style=\"text-align: right;\">\n",
       "      <th></th>\n",
       "      <th>id</th>\n",
       "      <th>idPost</th>\n",
       "      <th>replies</th>\n",
       "      <th>fsize</th>\n",
       "      <th>ext</th>\n",
       "    </tr>\n",
       "  </thead>\n",
       "  <tbody>\n",
       "    <tr>\n",
       "      <th>51971506</th>\n",
       "      <td>1</td>\n",
       "      <td>51971506.0</td>\n",
       "      <td>0.0</td>\n",
       "      <td>299699.0</td>\n",
       "      <td>.png</td>\n",
       "    </tr>\n",
       "    <tr>\n",
       "      <th>57183225</th>\n",
       "      <td>2</td>\n",
       "      <td>57183225.0</td>\n",
       "      <td>34.0</td>\n",
       "      <td>39660.0</td>\n",
       "      <td>.png</td>\n",
       "    </tr>\n",
       "    <tr>\n",
       "      <th>57185562</th>\n",
       "      <td>2</td>\n",
       "      <td>57185562.0</td>\n",
       "      <td>0.0</td>\n",
       "      <td>0.0</td>\n",
       "      <td></td>\n",
       "    </tr>\n",
       "    <tr>\n",
       "      <th>57185592</th>\n",
       "      <td>2</td>\n",
       "      <td>57185592.0</td>\n",
       "      <td>0.0</td>\n",
       "      <td>0.0</td>\n",
       "      <td></td>\n",
       "    </tr>\n",
       "    <tr>\n",
       "      <th>57185678</th>\n",
       "      <td>2</td>\n",
       "      <td>57185678.0</td>\n",
       "      <td>0.0</td>\n",
       "      <td>0.0</td>\n",
       "      <td></td>\n",
       "    </tr>\n",
       "  </tbody>\n",
       "</table>\n",
       "</div>"
      ],
      "text/plain": [
       "         id      idPost  replies     fsize   ext\n",
       "51971506  1  51971506.0      0.0  299699.0  .png\n",
       "57183225  2  57183225.0     34.0   39660.0  .png\n",
       "57185562  2  57185562.0      0.0       0.0      \n",
       "57185592  2  57185592.0      0.0       0.0      \n",
       "57185678  2  57185678.0      0.0       0.0      "
      ]
     },
     "execution_count": 8,
     "metadata": {},
     "output_type": "execute_result"
    }
   ],
   "source": [
    "# Mostramos información del dataframe\n",
    "print 'Dimensiones....:', df_tec.shape\n",
    "print 'Número de hilos:', len(df_tec['id'].unique())\n",
    "df_tec.head()"
   ]
  },
  {
   "cell_type": "markdown",
   "metadata": {},
   "source": [
    "# Contraste de la media de respuestas por post"
   ]
  },
  {
   "cell_type": "markdown",
   "metadata": {},
   "source": [
    "El primer post de cada thread contiene el número de respuestas, mientras que los siguientes (las respuestas) tienen el campo resplies a 0. Por ello, nos quedaremos únicamente con el primer post de cada thread, eliminando los que tienen replies a 0. "
   ]
  },
  {
   "cell_type": "code",
   "execution_count": 11,
   "metadata": {
    "collapsed": false
   },
   "outputs": [
    {
     "name": "stdout",
     "output_type": "stream",
     "text": [
      "\n",
      "*** Board: Animales y naturaleza:\n",
      "- Número total de post...............: 800\n",
      "- Número de post sin respuesta.......: 146\n",
      "- Número de post con alguna respuesta: 654\n",
      "\n",
      "*** Board: Tecnología:\n",
      "- Número total de post...............: 796\n",
      "- Número de post sin respuesta.......: 143\n",
      "- Número de post con alguna respuesta: 653\n"
     ]
    }
   ],
   "source": [
    "# Board: Animales y naturaleza\n",
    "df_nat_rep = df_nat['replies']\n",
    "num_post_total = len(df_nat_rep)\n",
    "df_nat_aux = df_nat[df_nat['replies'] > 0]\n",
    "df_nat_rep = df_nat_aux['replies']\n",
    "num_post_0 = len(df_nat_rep)\n",
    "print '\\n*** Board: Animales y naturaleza:'\n",
    "print '- Número total de post...............:', num_post_total\n",
    "print '- Número de post sin respuesta.......:', num_post_0\n",
    "print '- Número de post con alguna respuesta:', (num_post_total - num_post_0)\n",
    "\n",
    "# Board: Tecnología\n",
    "df_tec_rep = df_tec['replies']\n",
    "num_post_total = len(df_tec_rep)\n",
    "df_tec_aux = df_tec[df_tec['replies'] > 0]\n",
    "df_tec_rep = df_tec_aux['replies']\n",
    "num_post_0 = len(df_tec_rep)\n",
    "print '\\n*** Board: Tecnología:'\n",
    "print '- Número total de post...............:', num_post_total\n",
    "print '- Número de post sin respuesta.......:', num_post_0\n",
    "print '- Número de post con alguna respuesta:', (num_post_total - num_post_0)"
   ]
  },
  {
   "cell_type": "code",
   "execution_count": 12,
   "metadata": {
    "collapsed": false
   },
   "outputs": [
    {
     "name": "stdout",
     "output_type": "stream",
     "text": [
      "- La media de respuestas por post en el board de animales y naturaleza es: 38.9589041096\n",
      "- La media de respuestas por post en el board de tecnología es...........: 53.4125874126\n"
     ]
    }
   ],
   "source": [
    "# Obtenemos las medias de respuestas por post de cada board\n",
    "df_nat_mean = df_nat_rep.mean()\n",
    "df_tec_mean = df_tec_rep.mean()\n",
    "print '- La media de respuestas por post en el board de animales y naturaleza es:', df_nat_mean\n",
    "print '- La media de respuestas por post en el board de tecnología es...........:', df_tec_mean"
   ]
  },
  {
   "cell_type": "code",
   "execution_count": 16,
   "metadata": {
    "collapsed": false
   },
   "outputs": [
    {
     "data": {
      "text/plain": [
       "<matplotlib.text.Text at 0x7fed2072df10>"
      ]
     },
     "execution_count": 16,
     "metadata": {},
     "output_type": "execute_result"
    },
    {
     "data": {
      "image/png": "[encoded data removed]",
      "text/plain": [
       "<matplotlib.figure.Figure at 0x7fed20f2ba90>"
      ]
     },
     "metadata": {},
     "output_type": "display_data"
    }
   ],
   "source": [
    "# Mostramos un histograma de cada board con todos los post\n",
    "plt.figure(1)\n",
    "\n",
    "plt.subplot(121)\n",
    "plt.hist(df_nat_rep, bins=35)\n",
    "plt.text(60, 50, 'Animales y naturaleza', fontsize=12)\n",
    "\n",
    "plt.subplot(122)\n",
    "plt.hist(df_tec_rep, bins=35)\n",
    "plt.text(100, 35, 'Tecnologia',fontsize=12)"
   ]
  },
  {
   "cell_type": "code",
   "execution_count": 17,
   "metadata": {
    "collapsed": false
   },
   "outputs": [
    {
     "data": {
      "image/png": "[encoded data removed]",
      "text/plain": [
       "<matplotlib.figure.Figure at 0x7fed23738950>"
      ]
     },
     "metadata": {},
     "output_type": "display_data"
    }
   ],
   "source": [
    "# Y ahora mostramos los histogramas superpuestos\n",
    "plt.hist(df_nat_rep, bins=14, histtype='bar', color='blue', label='Animales y naturaleza')\n",
    "plt.hist(df_tec_rep, bins=14, histtype='bar', color='yellow', label='Tecnologia', alpha=0.5)\n",
    "plt.title('Histograma: respuestas')\n",
    "plt.legend()\n",
    "plt.show()"
   ]
  },
  {
   "cell_type": "markdown",
   "metadata": {},
   "source": [
    "Podemos ver que los post con menos de 25 respuestas son significativamente más numerosos en ambos boards, y relativamente numerosos entre las 25 y 50 respuestas."
   ]
  },
  {
   "cell_type": "markdown",
   "metadata": {
    "collapsed": true
   },
   "source": [
    "# Distribución del tamaño de las imágenes en los posts de un board"
   ]
  },
  {
   "cell_type": "markdown",
   "metadata": {
    "collapsed": true
   },
   "source": [
    "Vamos a obtener la distribución de las imágenes de los post del board de animales y naturaleza."
   ]
  },
  {
   "cell_type": "code",
   "execution_count": 18,
   "metadata": {
    "collapsed": false
   },
   "outputs": [
    {
     "name": "stdout",
     "output_type": "stream",
     "text": [
      "[u'.jpg' '' u'.png' u'.gif' u'.webm']\n"
     ]
    }
   ],
   "source": [
    "# Obtenemos las distintas extensiones de ficheros\n",
    "print df_nat['ext'].unique()"
   ]
  },
  {
   "cell_type": "code",
   "execution_count": 19,
   "metadata": {
    "collapsed": false
   },
   "outputs": [
    {
     "name": "stdout",
     "output_type": "stream",
     "text": [
      "(307, 5)\n"
     ]
    },
    {
     "data": {
      "text/html": [
       "<div>\n",
       "<table border=\"1\" class=\"dataframe\">\n",
       "  <thead>\n",
       "    <tr style=\"text-align: right;\">\n",
       "      <th></th>\n",
       "      <th>id</th>\n",
       "      <th>idPost</th>\n",
       "      <th>replies</th>\n",
       "      <th>fsize</th>\n",
       "      <th>ext</th>\n",
       "    </tr>\n",
       "  </thead>\n",
       "  <tbody>\n",
       "    <tr>\n",
       "      <th>2244664</th>\n",
       "      <td>1</td>\n",
       "      <td>2244664.0</td>\n",
       "      <td>29.0</td>\n",
       "      <td>125685.0</td>\n",
       "      <td>.jpg</td>\n",
       "    </tr>\n",
       "    <tr>\n",
       "      <th>2243547</th>\n",
       "      <td>2</td>\n",
       "      <td>2243547.0</td>\n",
       "      <td>118.0</td>\n",
       "      <td>177069.0</td>\n",
       "      <td>.jpg</td>\n",
       "    </tr>\n",
       "    <tr>\n",
       "      <th>2247548</th>\n",
       "      <td>2</td>\n",
       "      <td>2247548.0</td>\n",
       "      <td>0.0</td>\n",
       "      <td>80132.0</td>\n",
       "      <td>.jpg</td>\n",
       "    </tr>\n",
       "    <tr>\n",
       "      <th>2233340</th>\n",
       "      <td>3</td>\n",
       "      <td>2233340.0</td>\n",
       "      <td>149.0</td>\n",
       "      <td>190050.0</td>\n",
       "      <td>.jpg</td>\n",
       "    </tr>\n",
       "    <tr>\n",
       "      <th>2242823</th>\n",
       "      <td>4</td>\n",
       "      <td>2242823.0</td>\n",
       "      <td>99.0</td>\n",
       "      <td>123919.0</td>\n",
       "      <td>.jpg</td>\n",
       "    </tr>\n",
       "  </tbody>\n",
       "</table>\n",
       "</div>"
      ],
      "text/plain": [
       "        id     idPost  replies     fsize   ext\n",
       "2244664  1  2244664.0     29.0  125685.0  .jpg\n",
       "2243547  2  2243547.0    118.0  177069.0  .jpg\n",
       "2247548  2  2247548.0      0.0   80132.0  .jpg\n",
       "2233340  3  2233340.0    149.0  190050.0  .jpg\n",
       "2242823  4  2242823.0     99.0  123919.0  .jpg"
      ]
     },
     "execution_count": 19,
     "metadata": {},
     "output_type": "execute_result"
    }
   ],
   "source": [
    "# Eliminamos los post que no contienen imágenes (ext) y/o los que el tamaño (size) es 0\n",
    "img_nat = df_nat\n",
    "img_nat = img_nat[img_nat['fsize'] > 0]\n",
    "img_nat = img_nat[img_nat['ext'] != '.webm']\n",
    "img_nat.dropna(subset=['ext'])\n",
    "\n",
    "# Mostramos información del dataframe resultante\n",
    "print img_nat.shape\n",
    "img_nat.head()"
   ]
  },
  {
   "cell_type": "code",
   "execution_count": 20,
   "metadata": {
    "collapsed": false
   },
   "outputs": [
    {
     "name": "stdout",
     "output_type": "stream",
     "text": [
      "[u'.jpg' u'.png' u'.gif']\n"
     ]
    }
   ],
   "source": [
    "# Comprobamos que ahora el dataset solo contiene imágenes\n",
    "print img_nat['ext'].unique()"
   ]
  },
  {
   "cell_type": "code",
   "execution_count": 21,
   "metadata": {
    "collapsed": false
   },
   "outputs": [
    {
     "name": "stdout",
     "output_type": "stream",
     "text": [
      "<class 'matplotlib.axes._subplots.AxesSubplot'>\n"
     ]
    },
    {
     "data": {
      "image/png": "[encoded data removed]",
      "text/plain": [
       "<matplotlib.figure.Figure at 0x7fed204efb90>"
      ]
     },
     "metadata": {},
     "output_type": "display_data"
    }
   ],
   "source": [
    "# Mostramos el diagrama boxplot\n",
    "ax = sns.boxplot(data=img_nat[['fsize']]) \n",
    "print type(ax)"
   ]
  },
  {
   "cell_type": "code",
   "execution_count": 22,
   "metadata": {
    "collapsed": false
   },
   "outputs": [
    {
     "data": {
      "text/plain": [
       "<matplotlib.axes._subplots.AxesSubplot at 0x7fed20490c10>"
      ]
     },
     "execution_count": 22,
     "metadata": {},
     "output_type": "execute_result"
    },
    {
     "data": {
      "image/png": "[encoded data removed]",
      "text/plain": [
       "<matplotlib.figure.Figure at 0x7fed20985250>"
      ]
     },
     "metadata": {},
     "output_type": "display_data"
    }
   ],
   "source": [
    "# Mostramos ahora un displot de los datos\n",
    "sns.distplot(img_nat['fsize'], hist=False, rug=False) "
   ]
  },
  {
   "cell_type": "markdown",
   "metadata": {},
   "source": [
    "En el boxplot podemos ver numerosos outliers, y en distplot que la distribución no es de tipo normal, sino que tiene una cola de valores muy pronunciada a la derecha. Vamos a eliminar los outliers y a volver a mostra los diagramas."
   ]
  },
  {
   "cell_type": "code",
   "execution_count": 23,
   "metadata": {
    "collapsed": false
   },
   "outputs": [
    {
     "name": "stdout",
     "output_type": "stream",
     "text": [
      "<class 'matplotlib.axes._subplots.AxesSubplot'>\n"
     ]
    },
    {
     "data": {
      "image/png": "[encoded data removed]",
      "text/plain": [
       "<matplotlib.figure.Figure at 0x7fed20358290>"
      ]
     },
     "metadata": {},
     "output_type": "display_data"
    }
   ],
   "source": [
    "# Vemos en el boxplot outliers por encima de 1.500.000, así que los descartamos\n",
    "img_nat2 = img_nat[img_nat['fsize'] < 1500000] \n",
    "ax = sns.boxplot(data=img_nat2[['fsize']]) \n",
    "print type(ax)"
   ]
  },
  {
   "cell_type": "code",
   "execution_count": 25,
   "metadata": {
    "collapsed": false
   },
   "outputs": [
    {
     "name": "stdout",
     "output_type": "stream",
     "text": [
      "<class 'matplotlib.axes._subplots.AxesSubplot'>\n"
     ]
    },
    {
     "name": "stderr",
     "output_type": "stream",
     "text": [
      "/home/juan/anaconda2/lib/python2.7/site-packages/ipykernel/__main__.py:2: UserWarning: Boolean Series key will be reindexed to match DataFrame index.\n",
      "  from ipykernel import kernelapp as app\n"
     ]
    },
    {
     "data": {
      "image/png": "[encoded data removed]",
      "text/plain": [
       "<matplotlib.figure.Figure at 0x7fed201fd850>"
      ]
     },
     "metadata": {},
     "output_type": "display_data"
    }
   ],
   "source": [
    "# Vemos en el boxplot outliers por encima de 600.000, así que los descartamos\n",
    "img_nat2 = img_nat2[img_nat['fsize'] < 600000] \n",
    "ax = sns.boxplot(data=img_nat2[['fsize']]) \n",
    "print type(ax)"
   ]
  },
  {
   "cell_type": "code",
   "execution_count": 26,
   "metadata": {
    "collapsed": false
   },
   "outputs": [
    {
     "name": "stdout",
     "output_type": "stream",
     "text": [
      "<class 'matplotlib.axes._subplots.AxesSubplot'>\n"
     ]
    },
    {
     "name": "stderr",
     "output_type": "stream",
     "text": [
      "/home/juan/anaconda2/lib/python2.7/site-packages/ipykernel/__main__.py:2: UserWarning: Boolean Series key will be reindexed to match DataFrame index.\n",
      "  from ipykernel import kernelapp as app\n"
     ]
    },
    {
     "data": {
      "image/png": "[encoded data removed]",
      "text/plain": [
       "<matplotlib.figure.Figure at 0x7fed20137ed0>"
      ]
     },
     "metadata": {},
     "output_type": "display_data"
    }
   ],
   "source": [
    "# Vemos en el boxplot outliers por encima de 300.000, así que los descartamos\n",
    "img_nat2 = img_nat2[img_nat['fsize'] < 300000] \n",
    "ax = sns.boxplot(data=img_nat2[['fsize']]) \n",
    "print type(ax)"
   ]
  },
  {
   "cell_type": "code",
   "execution_count": 27,
   "metadata": {
    "collapsed": false
   },
   "outputs": [
    {
     "data": {
      "text/plain": [
       "<matplotlib.axes._subplots.AxesSubplot at 0x7fed20079090>"
      ]
     },
     "execution_count": 27,
     "metadata": {},
     "output_type": "execute_result"
    },
    {
     "data": {
      "image/png": "[encoded data removed]",
      "text/plain": [
       "<matplotlib.figure.Figure at 0x7fed20149990>"
      ]
     },
     "metadata": {},
     "output_type": "display_data"
    }
   ],
   "source": [
    "# Mostramos ahora un displot del nuevo conjunto de datos\n",
    "sns.distplot(img_nat2['fsize'], hist=False, rug=False) "
   ]
  },
  {
   "cell_type": "markdown",
   "metadata": {
    "collapsed": true
   },
   "source": [
    "Podemos comprobar que la fotos son mayoritariamente de pequeño tamaño."
   ]
  },
  {
   "cell_type": "code",
   "execution_count": null,
   "metadata": {
    "collapsed": true
   },
   "outputs": [],
   "source": []
  }
 ],
 "metadata": {
  "kernelspec": {
   "display_name": "Python 2",
   "language": "python",
   "name": "python2"
  },
  "language_info": {
   "codemirror_mode": {
    "name": "ipython",
    "version": 2
   },
   "file_extension": ".py",
   "mimetype": "text/x-python",
   "name": "python",
   "nbconvert_exporter": "python",
   "pygments_lexer": "ipython2",
   "version": "2.7.11"
  }
 },
 "nbformat": 4,
 "nbformat_minor": 0
}
