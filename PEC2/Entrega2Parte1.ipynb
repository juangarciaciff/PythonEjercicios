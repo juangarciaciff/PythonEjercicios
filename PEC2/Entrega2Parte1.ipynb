{
 "cells": [
  {
   "cell_type": "markdown",
   "metadata": {
    "collapsed": true
   },
   "source": [
    "# Prueba de evaluación continua 2\n",
    "## Parte 1: Board de 4chan\n",
    "***\n",
    "- Autor: Juan A. García Cuevas\n",
    "- Fecha: 16/10/2016\n",
    "***"
   ]
  },
  {
   "cell_type": "markdown",
   "metadata": {},
   "source": [
    "# Enunciado\n",
    "En esta primera parte trabajaremos con el API REST de 4chan: https://github.com/4chan/4chan-API (es conveniente tratar de comprender los campos que devuelve el JSON antes de comenzar, siguiendo el ejemplo de clase)\n",
    "Se pide lo siguiente:\n",
    "- Obtener una muestra de dos boards de 4chan, sacando una instantánea concreta (todas las páginas de cada board). Solo es necesario obtener la información requerida para los puntos siguientes, no es necesario procesar todo.\n",
    "- Contrastar diferencias en la media de respuestas por post en los dos boards elegidos.\n",
    "- Obtener la distribución del tamaño de las imágenes en los posts de uno de los boards."
   ]
  },
  {
   "cell_type": "markdown",
   "metadata": {
    "collapsed": true
   },
   "source": [
    "# Resolución"
   ]
  },
  {
   "cell_type": "code",
   "execution_count": 1,
   "metadata": {
    "collapsed": true
   },
   "outputs": [],
   "source": [
    "# Importamos algunas librerías\n",
    "import requests as rq\n",
    "import json\n",
    "import pandas as pd\n",
    "import numpy as np\n",
    "import seaborn as sns\n",
    "from time import time \n",
    "from ipykernel import kernelapp as app\n",
    "\n",
    "# Para que los gráficos se muestren en el notebook\n",
    "import matplotlib.pyplot as plt \n",
    "%matplotlib inline"
   ]
  },
  {
   "cell_type": "markdown",
   "metadata": {},
   "source": [
    "# Descarga de información de internet"
   ]
  },
  {
   "cell_type": "markdown",
   "metadata": {},
   "source": [
    "La url principal del API de 4chan es [https://a.4cdn.org/boards.json](https://a.4cdn.org/boards.json).\n",
    "\n",
    "El JSON que devuelve como respuesta contiene una colección de boards, y para cada uno de ellos datos como: *titte, meta_description, pages*..."
   ]
  },
  {
   "cell_type": "code",
   "execution_count": 2,
   "metadata": {
    "collapsed": false
   },
   "outputs": [
    {
     "name": "stdout",
     "output_type": "stream",
     "text": [
      "\n",
      "*** Nº de boards: 71\n",
      "\n",
      "*** Borad nº1:\n",
      "{u'max_webm_duration': 120, u'meta_description': u\"&quot;/a/ - Anime &amp; Manga&quot; is 4chan's imageboard dedicated to the discussion of Japanese animation and manga.\", u'cooldowns': {u'images': 60, u'threads': 600, u'replies': 60}, u'title': u'Anime & Manga', u'spoilers': 1, u'is_archived': 1, u'max_comment_chars': 2000, u'ws_board': 1, u'max_filesize': 4194304, u'custom_spoilers': 1, u'board': u'a', u'max_webm_filesize': 3145728, u'per_page': 15, u'bump_limit': 500, u'image_limit': 250, u'pages': 10}\n",
      "\n",
      "*** Borad nº2:\n",
      "{u'max_webm_duration': 120, u'meta_description': u\"&quot;/aco/ - Adult Cartoons&quot; is 4chan's imageboard for posting western-styled adult cartoon artwork.\", u'cooldowns': {u'images': 30, u'threads': 600, u'replies': 60}, u'title': u'Adult Cartoons', u'is_archived': 1, u'max_comment_chars': 2000, u'ws_board': 0, u'max_filesize': 4194304, u'board': u'aco', u'max_webm_filesize': 3145728, u'per_page': 15, u'bump_limit': 300, u'image_limit': 250, u'pages': 10}\n"
     ]
    }
   ],
   "source": [
    "# Descargamos de internet la url que propone la página web del API, en formato JSON\n",
    "query = rq.get('https://a.4cdn.org/boards.json')\n",
    "\n",
    "# Parseamos el JSON\n",
    "boards = json.loads(query.text) \n",
    "\n",
    "# Mostramos información del JSON\n",
    "print '\\n*** Nº de boards:', len(boards['boards'])\n",
    "print '\\n*** Borad nº1:\\n', boards['boards'][1]\n",
    "print '\\n*** Borad nº2:\\n', boards['boards'][2]"
   ]
  },
  {
   "cell_type": "code",
   "execution_count": 3,
   "metadata": {
    "collapsed": false
   },
   "outputs": [
    {
     "name": "stdout",
     "output_type": "stream",
     "text": [
      "\n",
      "*** Lista de boards: [u'3DCG' u'Anime & Manga' u'Adult Cartoons' u'Advice' u'Animals & Nature'\n",
      " u'Alternative Sports & Wrestling' u'Random' u'Business & Finance'\n",
      " u'Anime/Cute' u'Cosplay & EGL' u'Food & Cooking' u'Cute/Male'\n",
      " u'Comics & Cartoons' u'Hentai/Alternative' u'Do It Yourself' u'Ecchi'\n",
      " u'Flash' u'Fashion' u'Fitness' u'Technology' u'Graphic Design'\n",
      " u'Adult GIF' u'Hentai' u'Hardcore' u'History & Humanities' u'Handsome Men'\n",
      " u'High Resolution' u'Oekaki' u'Artwork/Critique' u'International'\n",
      " u'Otaku Culture' u'Weapons' u'LGBT' u'Literature' u'Mecha' u'Pony'\n",
      " u'Music' u'Transportation' u'Current News' u'Auto' u'Outdoors'\n",
      " u'Photography' u'Papercraft & Origami' u'Politically Incorrect'\n",
      " u'Question & Answer' u'Quests' u'Adult Requests' u'ROBOT9001'\n",
      " u'Sexy Beautiful Women' u'Shit 4chan Says' u'Science & Math'\n",
      " u'Cams & Meetups' u'Sports' u'Torrents' u'Traditional Games' u'Toys'\n",
      " u'Off-Topic' u'Travel' u'Television & Film' u'Yuri' u'Video Games'\n",
      " u'Video Game Generals' u'Very Important Posts' u'Pok\\xe9mon'\n",
      " u'Retro Games' u'Anime/Wallpapers' u'Wallpapers/General' u'Worksafe GIF'\n",
      " u'Worksafe Requests' u'Paranormal' u'Yaoi']\n",
      "\n",
      "*** Dimensiones del data frame: (71, 3)\n",
      "\n",
      "*** Muestra del data frame:\n"
     ]
    },
    {
     "data": {
      "text/html": [
       "<div>\n",
       "<table border=\"1\" class=\"dataframe\">\n",
       "  <thead>\n",
       "    <tr style=\"text-align: right;\">\n",
       "      <th></th>\n",
       "      <th>title</th>\n",
       "      <th>meta_description</th>\n",
       "      <th>pages</th>\n",
       "    </tr>\n",
       "  </thead>\n",
       "  <tbody>\n",
       "    <tr>\n",
       "      <th>3</th>\n",
       "      <td>3DCG</td>\n",
       "      <td>&amp;quot;/3/ - 3DCG&amp;quot; is 4chan's board for 3D...</td>\n",
       "      <td>10.0</td>\n",
       "    </tr>\n",
       "    <tr>\n",
       "      <th>a</th>\n",
       "      <td>Anime &amp; Manga</td>\n",
       "      <td>&amp;quot;/a/ - Anime &amp;amp; Manga&amp;quot; is 4chan's...</td>\n",
       "      <td>10.0</td>\n",
       "    </tr>\n",
       "    <tr>\n",
       "      <th>aco</th>\n",
       "      <td>Adult Cartoons</td>\n",
       "      <td>&amp;quot;/aco/ - Adult Cartoons&amp;quot; is 4chan's ...</td>\n",
       "      <td>10.0</td>\n",
       "    </tr>\n",
       "    <tr>\n",
       "      <th>adv</th>\n",
       "      <td>Advice</td>\n",
       "      <td>&amp;quot;/adv/ - Advice&amp;quot; is 4chan's board fo...</td>\n",
       "      <td>10.0</td>\n",
       "    </tr>\n",
       "    <tr>\n",
       "      <th>an</th>\n",
       "      <td>Animals &amp; Nature</td>\n",
       "      <td>&amp;quot;/an/ - Animals &amp;amp; Nature&amp;quot; is 4ch...</td>\n",
       "      <td>10.0</td>\n",
       "    </tr>\n",
       "  </tbody>\n",
       "</table>\n",
       "</div>"
      ],
      "text/plain": [
       "                title                                   meta_description  \\\n",
       "3                3DCG  &quot;/3/ - 3DCG&quot; is 4chan's board for 3D...   \n",
       "a       Anime & Manga  &quot;/a/ - Anime &amp; Manga&quot; is 4chan's...   \n",
       "aco    Adult Cartoons  &quot;/aco/ - Adult Cartoons&quot; is 4chan's ...   \n",
       "adv            Advice  &quot;/adv/ - Advice&quot; is 4chan's board fo...   \n",
       "an   Animals & Nature  &quot;/an/ - Animals &amp; Nature&quot; is 4ch...   \n",
       "\n",
       "     pages  \n",
       "3     10.0  \n",
       "a     10.0  \n",
       "aco   10.0  \n",
       "adv   10.0  \n",
       "an    10.0  "
      ]
     },
     "execution_count": 3,
     "metadata": {},
     "output_type": "execute_result"
    }
   ],
   "source": [
    "# Creamos un dataframe con los datos descargados y parseados\n",
    "df = pd.DataFrame(columns=[\"title\", \"meta_description\", \"pages\"])\n",
    "for board in boards[\"boards\"]:\n",
    "    title = board[\"title\"]\n",
    "    metadesc = board[\"meta_description\"]\n",
    "    page = int(board[\"pages\"])\n",
    "    df.loc[board[\"board\"]] = [title, metadesc,  page] \n",
    "\n",
    "# Mostramos información del dataframe\n",
    "print '\\n*** Lista de boards:', df[\"title\"].unique()\n",
    "print '\\n*** Dimensiones del data frame:', df.shape\n",
    "print '\\n*** Muestra del data frame:'\n",
    "df.head()"
   ]
  },
  {
   "cell_type": "markdown",
   "metadata": {},
   "source": [
    "Cada board tiene varias páginas con url's al estilo de este ejemplo: [https://a.4cdn.org/an/1.json](https://a.4cdn.org/an/1.json), donde 'an' es el identificador de board y '1' el número de página.\n",
    "\n",
    "Cada board contiene una colecciṕn de threads, cada thread una colección de posts con datos como: *no, replies, fsize, ext*..."
   ]
  },
  {
   "cell_type": "code",
   "execution_count": 4,
   "metadata": {
    "collapsed": false
   },
   "outputs": [],
   "source": [
    "# Creamos una función para descargar las páginas de un board de 4chan\n",
    "def downloadBoardPages(board, name):\n",
    "    print '- Título.......:', board['title']\n",
    "    print '- Nº de páginas:', board['pages']\n",
    "\n",
    "    # Crea el dataframe donde almacenar los datos\n",
    "    df_result = pd.DataFrame(columns=['id', 'idPost', 'replies', 'fsize', 'ext'])\n",
    "\n",
    "    # Toma el tiempo al inicio del proceso de descarga y parseo\n",
    "    time_start = time()\n",
    "\n",
    "    # Obtiene el número de páginas del board\n",
    "    num_pages = board['pages'].astype(np.int32) \n",
    "\n",
    "    # Descarga las páginas y parsea su contenido\n",
    "    count_threads = 0\n",
    "    count_posts = 0\n",
    "    for p in range(1, num_pages + 1):\n",
    "        # Construye la url de la página del board\n",
    "        url = 'https://a.4cdn.org/' + name + '/'+ str(p) +'.json'\n",
    "        print '*** Descargando página', p, ':', url, '...'\n",
    "        # Descarga el contenido de la url\n",
    "        url_content = rq.get(url)\n",
    "        # Transforma la información en un objeto JSON\n",
    "        obj_json = json.loads(url_content.text)\n",
    "        # Recorre los hilos del objeto\n",
    "        #print '   - Nº de Hilos:', len(obj_json['threads'])\n",
    "        for hilo in obj_json['threads']:\n",
    "            #print '   - Hilo...'\n",
    "            count_threads = count_threads + 1\n",
    "            # Recorre los post del objeto\n",
    "            #print '      - Nº de Posts:', len(hilo['posts'])\n",
    "            for post in hilo['posts']:\n",
    "                count_posts = count_posts + 1\n",
    "                id_post = post['no']\n",
    "                replies = 0\n",
    "                fsize = 0\n",
    "                ext = ''\n",
    "                if ('replies' in post):\n",
    "                    replies = int(post['replies'])\n",
    "                if ('fsize' in post):\n",
    "                    fsize = float(post['fsize'])\n",
    "                if ('ext' in post):\n",
    "                    ext = post['ext'] \n",
    "                df_result.loc[id_post] = [str(count_threads), id_post, replies, fsize, ext]\n",
    "                #print '-', str(id), id_post, replies, fsize, ext\n",
    "    \n",
    "    # Toma el tiempo al final del proceso de descarga y parseo, y muestra el tiempo total\n",
    "    time_end = time() \n",
    "    time_exe = time_end - time_start\n",
    "    print '- Tiempo de descarga:', round(time_exe, 3), 'sg.'   \n",
    "\n",
    "    # Retorna el dataframe resultante\n",
    "    return  df_result  "
   ]
  },
  {
   "cell_type": "code",
   "execution_count": 5,
   "metadata": {
    "collapsed": false
   },
   "outputs": [],
   "source": [
    "# Seleccionaremos los board de tecnología (g - Technology) y animales y naturaleza (an - Animals & Nature)\n",
    "board_tec = df.loc['g']\n",
    "board_nat = df.loc['an']"
   ]
  },
  {
   "cell_type": "markdown",
   "metadata": {},
   "source": [
    "### Descarga del board de animales y naturaleza (an)"
   ]
  },
  {
   "cell_type": "code",
   "execution_count": 6,
   "metadata": {
    "collapsed": false
   },
   "outputs": [
    {
     "name": "stdout",
     "output_type": "stream",
     "text": [
      "- Título.......: Animals & Nature\n",
      "- Nº de páginas: 10.0\n",
      "*** Descargando página 1 : https://a.4cdn.org/an/1.json ...\n",
      "*** Descargando página 2 : https://a.4cdn.org/an/2.json ...\n",
      "*** Descargando página 3 : https://a.4cdn.org/an/3.json ...\n",
      "*** Descargando página 4 : https://a.4cdn.org/an/4.json ...\n",
      "*** Descargando página 5 : https://a.4cdn.org/an/5.json ...\n",
      "*** Descargando página 6 : https://a.4cdn.org/an/6.json ...\n",
      "*** Descargando página 7 : https://a.4cdn.org/an/7.json ...\n",
      "*** Descargando página 8 : https://a.4cdn.org/an/8.json ...\n",
      "*** Descargando página 9 : https://a.4cdn.org/an/9.json ...\n",
      "*** Descargando página 10 : https://a.4cdn.org/an/10.json ...\n",
      "- Tiempo de descarga: 7.539 sg.\n"
     ]
    }
   ],
   "source": [
    "# Descargamos las páginas del board de animales y naturaleza\n",
    "df_nat = downloadBoardPages(board_nat, 'an')"
   ]
  },
  {
   "cell_type": "code",
   "execution_count": 7,
   "metadata": {
    "collapsed": false
   },
   "outputs": [
    {
     "name": "stdout",
     "output_type": "stream",
     "text": [
      "Dimensiones....: (789, 5)\n",
      "Número de hilos: 150\n"
     ]
    },
    {
     "data": {
      "text/html": [
       "<div>\n",
       "<table border=\"1\" class=\"dataframe\">\n",
       "  <thead>\n",
       "    <tr style=\"text-align: right;\">\n",
       "      <th></th>\n",
       "      <th>id</th>\n",
       "      <th>idPost</th>\n",
       "      <th>replies</th>\n",
       "      <th>fsize</th>\n",
       "      <th>ext</th>\n",
       "    </tr>\n",
       "  </thead>\n",
       "  <tbody>\n",
       "    <tr>\n",
       "      <th>2248564</th>\n",
       "      <td>1</td>\n",
       "      <td>2248564.0</td>\n",
       "      <td>7.0</td>\n",
       "      <td>67517.0</td>\n",
       "      <td>.jpg</td>\n",
       "    </tr>\n",
       "    <tr>\n",
       "      <th>2248575</th>\n",
       "      <td>1</td>\n",
       "      <td>2248575.0</td>\n",
       "      <td>0.0</td>\n",
       "      <td>0.0</td>\n",
       "      <td></td>\n",
       "    </tr>\n",
       "    <tr>\n",
       "      <th>2248577</th>\n",
       "      <td>1</td>\n",
       "      <td>2248577.0</td>\n",
       "      <td>0.0</td>\n",
       "      <td>0.0</td>\n",
       "      <td></td>\n",
       "    </tr>\n",
       "    <tr>\n",
       "      <th>2248578</th>\n",
       "      <td>1</td>\n",
       "      <td>2248578.0</td>\n",
       "      <td>0.0</td>\n",
       "      <td>0.0</td>\n",
       "      <td></td>\n",
       "    </tr>\n",
       "    <tr>\n",
       "      <th>2248580</th>\n",
       "      <td>1</td>\n",
       "      <td>2248580.0</td>\n",
       "      <td>0.0</td>\n",
       "      <td>0.0</td>\n",
       "      <td></td>\n",
       "    </tr>\n",
       "  </tbody>\n",
       "</table>\n",
       "</div>"
      ],
      "text/plain": [
       "        id     idPost  replies    fsize   ext\n",
       "2248564  1  2248564.0      7.0  67517.0  .jpg\n",
       "2248575  1  2248575.0      0.0      0.0      \n",
       "2248577  1  2248577.0      0.0      0.0      \n",
       "2248578  1  2248578.0      0.0      0.0      \n",
       "2248580  1  2248580.0      0.0      0.0      "
      ]
     },
     "execution_count": 7,
     "metadata": {},
     "output_type": "execute_result"
    }
   ],
   "source": [
    "# Mostramos información del dataframe\n",
    "print 'Dimensiones....:', df_nat.shape\n",
    "print 'Número de hilos:', len(df_nat['id'].unique())\n",
    "df_nat.head()"
   ]
  },
  {
   "cell_type": "markdown",
   "metadata": {},
   "source": [
    "### Descarga del board de tecnología (g)"
   ]
  },
  {
   "cell_type": "code",
   "execution_count": 8,
   "metadata": {
    "collapsed": false
   },
   "outputs": [
    {
     "name": "stdout",
     "output_type": "stream",
     "text": [
      "- Título.......: Technology\n",
      "- Nº de páginas: 10.0\n",
      "*** Descargando página 1 : https://a.4cdn.org/g/1.json ...\n",
      "*** Descargando página 2 : https://a.4cdn.org/g/2.json ...\n",
      "*** Descargando página 3 : https://a.4cdn.org/g/3.json ...\n",
      "*** Descargando página 4 : https://a.4cdn.org/g/4.json ...\n",
      "*** Descargando página 5 : https://a.4cdn.org/g/5.json ...\n",
      "*** Descargando página 6 : https://a.4cdn.org/g/6.json ...\n",
      "*** Descargando página 7 : https://a.4cdn.org/g/7.json ...\n",
      "*** Descargando página 8 : https://a.4cdn.org/g/8.json ...\n",
      "*** Descargando página 9 : https://a.4cdn.org/g/9.json ...\n",
      "*** Descargando página 10 : https://a.4cdn.org/g/10.json ...\n",
      "- Tiempo de descarga: 9.155 sg.\n"
     ]
    }
   ],
   "source": [
    "# Descargamos las páginas del board de tecnología\n",
    "df_tec = downloadBoardPages(board_tec, 'g')"
   ]
  },
  {
   "cell_type": "code",
   "execution_count": 9,
   "metadata": {
    "collapsed": false
   },
   "outputs": [
    {
     "name": "stdout",
     "output_type": "stream",
     "text": [
      "Dimensiones....: (809, 5)\n",
      "Número de hilos: 150\n"
     ]
    },
    {
     "data": {
      "text/html": [
       "<div>\n",
       "<table border=\"1\" class=\"dataframe\">\n",
       "  <thead>\n",
       "    <tr style=\"text-align: right;\">\n",
       "      <th></th>\n",
       "      <th>id</th>\n",
       "      <th>idPost</th>\n",
       "      <th>replies</th>\n",
       "      <th>fsize</th>\n",
       "      <th>ext</th>\n",
       "    </tr>\n",
       "  </thead>\n",
       "  <tbody>\n",
       "    <tr>\n",
       "      <th>51971506</th>\n",
       "      <td>1</td>\n",
       "      <td>51971506.0</td>\n",
       "      <td>0.0</td>\n",
       "      <td>299699.0</td>\n",
       "      <td>.png</td>\n",
       "    </tr>\n",
       "    <tr>\n",
       "      <th>57202590</th>\n",
       "      <td>2</td>\n",
       "      <td>57202590.0</td>\n",
       "      <td>17.0</td>\n",
       "      <td>1760178.0</td>\n",
       "      <td>.png</td>\n",
       "    </tr>\n",
       "    <tr>\n",
       "      <th>57203238</th>\n",
       "      <td>2</td>\n",
       "      <td>57203238.0</td>\n",
       "      <td>0.0</td>\n",
       "      <td>1318798.0</td>\n",
       "      <td>.png</td>\n",
       "    </tr>\n",
       "    <tr>\n",
       "      <th>57203272</th>\n",
       "      <td>2</td>\n",
       "      <td>57203272.0</td>\n",
       "      <td>0.0</td>\n",
       "      <td>0.0</td>\n",
       "      <td></td>\n",
       "    </tr>\n",
       "    <tr>\n",
       "      <th>57203276</th>\n",
       "      <td>2</td>\n",
       "      <td>57203276.0</td>\n",
       "      <td>0.0</td>\n",
       "      <td>0.0</td>\n",
       "      <td></td>\n",
       "    </tr>\n",
       "  </tbody>\n",
       "</table>\n",
       "</div>"
      ],
      "text/plain": [
       "         id      idPost  replies      fsize   ext\n",
       "51971506  1  51971506.0      0.0   299699.0  .png\n",
       "57202590  2  57202590.0     17.0  1760178.0  .png\n",
       "57203238  2  57203238.0      0.0  1318798.0  .png\n",
       "57203272  2  57203272.0      0.0        0.0      \n",
       "57203276  2  57203276.0      0.0        0.0      "
      ]
     },
     "execution_count": 9,
     "metadata": {},
     "output_type": "execute_result"
    }
   ],
   "source": [
    "# Mostramos información del dataframe\n",
    "print 'Dimensiones....:', df_tec.shape\n",
    "print 'Número de hilos:', len(df_tec['id'].unique())\n",
    "df_tec.head()"
   ]
  },
  {
   "cell_type": "markdown",
   "metadata": {},
   "source": [
    "# Contraste de la media de respuestas por post"
   ]
  },
  {
   "cell_type": "markdown",
   "metadata": {},
   "source": [
    "El primer post de cada thread contiene el número de respuestas, mientras que los siguientes (las respuestas) tienen el campo resplies a 0. Por ello, nos quedaremos únicamente con el primer post de cada thread, eliminando los que tienen replies a 0. "
   ]
  },
  {
   "cell_type": "code",
   "execution_count": 10,
   "metadata": {
    "collapsed": false
   },
   "outputs": [
    {
     "name": "stdout",
     "output_type": "stream",
     "text": [
      "\n",
      "*** Board: Animales y naturaleza:\n",
      "- Número total de post...............: 789\n",
      "- Número de post sin respuesta.......: 144\n",
      "- Número de post con alguna respuesta: 645\n",
      "\n",
      "*** Board: Tecnología:\n",
      "- Número total de post...............: 809\n",
      "- Número de post sin respuesta.......: 147\n",
      "- Número de post con alguna respuesta: 662\n"
     ]
    }
   ],
   "source": [
    "# Board: Animales y naturaleza\n",
    "df_nat_rep = df_nat['replies']\n",
    "num_post_total = len(df_nat_rep)\n",
    "df_nat_aux = df_nat[df_nat['replies'] > 0]\n",
    "df_nat_rep = df_nat_aux['replies']\n",
    "num_post_0 = len(df_nat_rep)\n",
    "print '\\n*** Board: Animales y naturaleza:'\n",
    "print '- Número total de post...............:', num_post_total\n",
    "print '- Número de post sin respuesta.......:', num_post_0\n",
    "print '- Número de post con alguna respuesta:', (num_post_total - num_post_0)\n",
    "\n",
    "# Board: Tecnología\n",
    "df_tec_rep = df_tec['replies']\n",
    "num_post_total = len(df_tec_rep)\n",
    "df_tec_aux = df_tec[df_tec['replies'] > 0]\n",
    "df_tec_rep = df_tec_aux['replies']\n",
    "num_post_0 = len(df_tec_rep)\n",
    "print '\\n*** Board: Tecnología:'\n",
    "print '- Número total de post...............:', num_post_total\n",
    "print '- Número de post sin respuesta.......:', num_post_0\n",
    "print '- Número de post con alguna respuesta:', (num_post_total - num_post_0)"
   ]
  },
  {
   "cell_type": "code",
   "execution_count": 11,
   "metadata": {
    "collapsed": false
   },
   "outputs": [
    {
     "name": "stdout",
     "output_type": "stream",
     "text": [
      "- La media de respuestas por post en el board de animales y naturaleza es: 38.5138888889\n",
      "- La media de respuestas por post en el board de tecnología es...........: 52.5238095238\n"
     ]
    }
   ],
   "source": [
    "# Obtenemos las medias de respuestas por post de cada board\n",
    "df_nat_mean = df_nat_rep.mean()\n",
    "df_tec_mean = df_tec_rep.mean()\n",
    "print '- La media de respuestas por post en el board de animales y naturaleza es:', df_nat_mean\n",
    "print '- La media de respuestas por post en el board de tecnología es...........:', df_tec_mean"
   ]
  },
  {
   "cell_type": "code",
   "execution_count": 12,
   "metadata": {
    "collapsed": false
   },
   "outputs": [
    {
     "data": {
      "text/plain": [
       "<matplotlib.text.Text at 0x7fe8088f9f90>"
      ]
     },
     "execution_count": 12,
     "metadata": {},
     "output_type": "execute_result"
    },
    {
     "data": {
      "image/png": "[encoded data removed]",
      "text/plain": [
       "<matplotlib.figure.Figure at 0x7fe80bc0a310>"
      ]
     },
     "metadata": {},
     "output_type": "display_data"
    }
   ],
   "source": [
    "# Mostramos un histograma de cada board con todos los post\n",
    "plt.figure(1)\n",
    "\n",
    "plt.subplot(121)\n",
    "plt.hist(df_nat_rep, bins=35)\n",
    "plt.text(60, 50, 'Animales y naturaleza', fontsize=12)\n",
    "\n",
    "plt.subplot(122)\n",
    "plt.hist(df_tec_rep, bins=35)\n",
    "plt.text(100, 35, 'Tecnologia',fontsize=12)"
   ]
  },
  {
   "cell_type": "code",
   "execution_count": 13,
   "metadata": {
    "collapsed": false
   },
   "outputs": [
    {
     "data": {
      "image/png": "[encoded data removed]",
      "text/plain": [
       "<matplotlib.figure.Figure at 0x7fe80aec9050>"
      ]
     },
     "metadata": {},
     "output_type": "display_data"
    }
   ],
   "source": [
    "# Y ahora mostramos los histogramas superpuestos\n",
    "plt.hist(df_nat_rep, bins=14, histtype='bar', color='blue', label='Animales y naturaleza')\n",
    "plt.hist(df_tec_rep, bins=14, histtype='bar', color='yellow', label='Tecnologia', alpha=0.5)\n",
    "plt.title('Histograma: respuestas')\n",
    "plt.legend()\n",
    "plt.show()"
   ]
  },
  {
   "cell_type": "markdown",
   "metadata": {},
   "source": [
    "Podemos ver que los post con menos de 25 respuestas son significativamente más numerosos en ambos boards, y relativamente numerosos entre las 25 y 50 respuestas."
   ]
  },
  {
   "cell_type": "markdown",
   "metadata": {
    "collapsed": true
   },
   "source": [
    "# Distribución del tamaño de las imágenes en los posts de un board"
   ]
  },
  {
   "cell_type": "markdown",
   "metadata": {
    "collapsed": true
   },
   "source": [
    "Vamos a obtener la distribución de las imágenes de los post del board de animales y naturaleza."
   ]
  },
  {
   "cell_type": "code",
   "execution_count": 14,
   "metadata": {
    "collapsed": false
   },
   "outputs": [
    {
     "name": "stdout",
     "output_type": "stream",
     "text": [
      "[u'.jpg' '' u'.png' u'.gif']\n"
     ]
    }
   ],
   "source": [
    "# Obtenemos las distintas extensiones de ficheros\n",
    "print df_nat['ext'].unique()"
   ]
  },
  {
   "cell_type": "code",
   "execution_count": 15,
   "metadata": {
    "collapsed": false
   },
   "outputs": [
    {
     "name": "stdout",
     "output_type": "stream",
     "text": [
      "(289, 5)\n"
     ]
    },
    {
     "data": {
      "text/html": [
       "<div>\n",
       "<table border=\"1\" class=\"dataframe\">\n",
       "  <thead>\n",
       "    <tr style=\"text-align: right;\">\n",
       "      <th></th>\n",
       "      <th>id</th>\n",
       "      <th>idPost</th>\n",
       "      <th>replies</th>\n",
       "      <th>fsize</th>\n",
       "      <th>ext</th>\n",
       "    </tr>\n",
       "  </thead>\n",
       "  <tbody>\n",
       "    <tr>\n",
       "      <th>2248564</th>\n",
       "      <td>1</td>\n",
       "      <td>2248564.0</td>\n",
       "      <td>7.0</td>\n",
       "      <td>67517.0</td>\n",
       "      <td>.jpg</td>\n",
       "    </tr>\n",
       "    <tr>\n",
       "      <th>2241247</th>\n",
       "      <td>2</td>\n",
       "      <td>2241247.0</td>\n",
       "      <td>78.0</td>\n",
       "      <td>666249.0</td>\n",
       "      <td>.jpg</td>\n",
       "    </tr>\n",
       "    <tr>\n",
       "      <th>2248583</th>\n",
       "      <td>2</td>\n",
       "      <td>2248583.0</td>\n",
       "      <td>0.0</td>\n",
       "      <td>18368.0</td>\n",
       "      <td>.jpg</td>\n",
       "    </tr>\n",
       "    <tr>\n",
       "      <th>2246324</th>\n",
       "      <td>3</td>\n",
       "      <td>2246324.0</td>\n",
       "      <td>34.0</td>\n",
       "      <td>49542.0</td>\n",
       "      <td>.jpg</td>\n",
       "    </tr>\n",
       "    <tr>\n",
       "      <th>2248581</th>\n",
       "      <td>3</td>\n",
       "      <td>2248581.0</td>\n",
       "      <td>0.0</td>\n",
       "      <td>10541.0</td>\n",
       "      <td>.jpg</td>\n",
       "    </tr>\n",
       "  </tbody>\n",
       "</table>\n",
       "</div>"
      ],
      "text/plain": [
       "        id     idPost  replies     fsize   ext\n",
       "2248564  1  2248564.0      7.0   67517.0  .jpg\n",
       "2241247  2  2241247.0     78.0  666249.0  .jpg\n",
       "2248583  2  2248583.0      0.0   18368.0  .jpg\n",
       "2246324  3  2246324.0     34.0   49542.0  .jpg\n",
       "2248581  3  2248581.0      0.0   10541.0  .jpg"
      ]
     },
     "execution_count": 15,
     "metadata": {},
     "output_type": "execute_result"
    }
   ],
   "source": [
    "# Eliminamos los post que no contienen imágenes (ext) y/o los que el tamaño (size) es 0\n",
    "img_nat = df_nat\n",
    "img_nat = img_nat[img_nat['fsize'] > 0]\n",
    "#img_nat = img_nat[img_nat['ext'] != '.webm']\n",
    "img_nat.dropna(subset=['ext'])\n",
    "\n",
    "# Mostramos información del dataframe resultante\n",
    "print img_nat.shape\n",
    "img_nat.head()"
   ]
  },
  {
   "cell_type": "code",
   "execution_count": 16,
   "metadata": {
    "collapsed": false
   },
   "outputs": [
    {
     "name": "stdout",
     "output_type": "stream",
     "text": [
      "[u'.jpg' u'.png' u'.gif']\n"
     ]
    }
   ],
   "source": [
    "# Comprobamos que ahora el dataset solo contiene imágenes\n",
    "print img_nat['ext'].unique()"
   ]
  },
  {
   "cell_type": "code",
   "execution_count": 17,
   "metadata": {
    "collapsed": false
   },
   "outputs": [
    {
     "name": "stdout",
     "output_type": "stream",
     "text": [
      "<class 'matplotlib.axes._subplots.AxesSubplot'>\n"
     ]
    },
    {
     "data": {
      "image/png": "[encoded data removed]",
      "text/plain": [
       "<matplotlib.figure.Figure at 0x7fe80b74a610>"
      ]
     },
     "metadata": {},
     "output_type": "display_data"
    }
   ],
   "source": [
    "# Mostramos el diagrama boxplot\n",
    "ax = sns.boxplot(data=img_nat[['fsize']]) \n",
    "print type(ax)"
   ]
  },
  {
   "cell_type": "code",
   "execution_count": 18,
   "metadata": {
    "collapsed": false
   },
   "outputs": [
    {
     "data": {
      "text/plain": [
       "<matplotlib.axes._subplots.AxesSubplot at 0x7fe80816ff10>"
      ]
     },
     "execution_count": 18,
     "metadata": {},
     "output_type": "execute_result"
    },
    {
     "data": {
      "image/png": "[encoded data removed]",
      "text/plain": [
       "<matplotlib.figure.Figure at 0x7fe80aec9510>"
      ]
     },
     "metadata": {},
     "output_type": "display_data"
    }
   ],
   "source": [
    "# Mostramos ahora un displot de los datos\n",
    "sns.distplot(img_nat['fsize'], hist=False, rug=False) "
   ]
  },
  {
   "cell_type": "code",
   "execution_count": 19,
   "metadata": {
    "collapsed": false
   },
   "outputs": [
    {
     "name": "stdout",
     "output_type": "stream",
     "text": [
      "3.58417586529e-27\n"
     ]
    }
   ],
   "source": [
    "# Hacemos también un test de normalidad de la distribución\n",
    "from scipy.stats.mstats import normaltest  \n",
    "_, ntest = normaltest(img_nat[\"fsize\"])\n",
    "print ntest"
   ]
  },
  {
   "cell_type": "markdown",
   "metadata": {},
   "source": [
    "En el boxplot podemos ver numerosos outliers, y en distplot que la distribución no es de tipo normal, sino que tiene una cola de valores muy pronunciada a la derecha.\n",
    "\n",
    "Podemos concluir que la nistribuciçon no sigle la normal..\n",
    "\n",
    "Las imágenes son mayoritariamente de pequeño tamaño."
   ]
  },
  {
   "cell_type": "code",
   "execution_count": null,
   "metadata": {
    "collapsed": true
   },
   "outputs": [],
   "source": []
  }
 ],
 "metadata": {
  "kernelspec": {
   "display_name": "Python 2",
   "language": "python",
   "name": "python2"
  },
  "language_info": {
   "codemirror_mode": {
    "name": "ipython",
    "version": 2
   },
   "file_extension": ".py",
   "mimetype": "text/x-python",
   "name": "python",
   "nbconvert_exporter": "python",
   "pygments_lexer": "ipython2",
   "version": "2.7.11"
  }
 },
 "nbformat": 4,
 "nbformat_minor": 0
}
