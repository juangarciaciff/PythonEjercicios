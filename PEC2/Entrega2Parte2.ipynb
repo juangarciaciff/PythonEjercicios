{
 "cells": [
  {
   "cell_type": "markdown",
   "metadata": {},
   "source": [
    "# Prueba de evaluación continua 2\n",
    "## Parte 2: Eventos de tráfico en UK\n",
    "***\n",
    "- Autor: Juan A. García Cuevas\n",
    "- Fecha: 16/10/2016\n",
    "***"
   ]
  },
  {
   "cell_type": "markdown",
   "metadata": {},
   "source": [
    "# Enunciado\n",
    "En esta segunda parte trabajaremos con información en XML. Concretamente, el gobierno británico nos ofrece datasets sobre eventos de tráfico:\n",
    "\n",
    "https://data.gov.uk/dataset/live-traffic-information-from-the-highways-agency-road-network\n",
    "\n",
    "Trabajaremos con los “Unplanned Events” que se proporcionan en un formato XML. Se puede descargar de esta URL:\n",
    "\n",
    "http://hatrafficinfo.dft.gov.uk/feeds/datex/England/UnplannedEvent/content.xml\n",
    "\n",
    "Concretamente, contiene un conjunto de situaciones (“situation”) y dentro de la descripción de las situaciones, nos interesa el impacto (“impact”).\n",
    "\n",
    "Investiga el impacto de los eventos no planificados en las variables que aporten algo de información. Por ejemplo, la variable “capacityRemaining” indica la capacidad de la vía que la situación dejó sin afectar, y en ocasiones indica obstrucción total (valor 0.0) pero en otros casos sólo parcial. Estudia descriptivamente al menos 3 de las variables, sean numéricas o categóricas, dentro de las que describen el impacto solamente."
   ]
  },
  {
   "cell_type": "markdown",
   "metadata": {},
   "source": [
    " # Resolución"
   ]
  },
  {
   "cell_type": "code",
   "execution_count": 1,
   "metadata": {
    "collapsed": false
   },
   "outputs": [],
   "source": [
    "# Importamos librerías\n",
    "from urllib import urlretrieve, urlcleanup\n",
    "from lxml import objectify\n",
    "import pandas as pd\n",
    "import seaborn as sns\n",
    "\n",
    "# Para que los gráficos se muestren en el notebook\n",
    "import matplotlib.pyplot as plt \n",
    "%matplotlib inline"
   ]
  },
  {
   "cell_type": "code",
   "execution_count": 2,
   "metadata": {
    "collapsed": false
   },
   "outputs": [],
   "source": [
    "# Descargamos el fichero XML de internet\n",
    "xmlUrl = 'http://hatrafficinfo.dft.gov.uk/feeds/datex/England/UnplannedEvent/content.xml'\n",
    "xmlPath = 'TraficUnplannedEvents.xml'\n",
    "urlretrieve(xmlUrl, xmlPath)\n",
    "urlcleanup()"
   ]
  },
  {
   "cell_type": "code",
   "execution_count": 3,
   "metadata": {
    "collapsed": false
   },
   "outputs": [
    {
     "name": "stdout",
     "output_type": "stream",
     "text": [
      "FICHERO:\n",
      "========\n",
      "-rw-rw-r-- 1 juan juan 23235 oct 23 16:18 TraficUnplannedEvents.xml\n",
      "\n",
      "CONTENIDO DEL FICHERO:\n",
      "======================\n",
      "<?xml version=\"1.0\" encoding=\"UTF-8\" standalone=\"yes\"?><d2LogicalModel xmlns=\"http://datex2.eu/schema/1_0/1_0\" modelBaseVersion=\"1.0\"><exchange><supplierIdentification><country>gb</country><nationalIdentifier>NTCC</nationalIdentifier></supplierIdentification></exchange><payloadPublication xmlns:xsi=\"http://www.w3.org/2001/XMLSchema-instance\" xsi:type=\"SituationPublication\" lang=\"en\"><publicationTime>2015-12-07T19:40:48Z</publicationTime><publicationCreator><country>gb</country><nationalIdentifier>NTCC</nationalIdentifier></publicationCreator><situation id=\"GUID732336731\"><headerInformation><areaOfInterest>national</areaOfInterest><confidentiality>restrictedToAuthoritiesTrafficOperatorsAndPublishers</confidentiality><informationUsage>broadcast</informationUsage><informationStatus>real</informationStatus></headerInformation><situationRecord xsi:type=\"MaintenanceWorks\" id=\"GUID1-732336738\"><situationRecordCreationReference>U-15-1203-0031</situationRecordCreationReference><situationRecordCreationTime>2015-12-03T04:11:02Z</situationRecordCreationTime><situationRecordVersion>44</situationRecordVersion><situationRecordVersionTime>2015-12-07T17:40:28Z</situationRecordVersionTime><situationRecordFirstSupplierVersionTime>2015-12-07T17:40:28Z</situationRecordFirstSupplierVersionTime><probabilityOfOccurrence>certain</probabilityOfOccurrence><sourceInformation><sourceCountry>gb</sourceCountry><sourceName><value lang=\"en\">call from ERCC</value></sourceName></sourceInformation><validity><validityStatus>definedByValidityTimeSpec</validityStatus><validityTimeSpecification><overallStartTime>2015-12-03T04:11:04Z</overallStartTime><overallEndTime>2015-12-07T23:00:00Z</overallEndTime><validPeriod><startOfPeriod>2015-12-03T04:11:04Z</startOfPeriod><endOfPeriod>2015-12-07T23:00:00Z</endOfPeriod></validPeriod></validityTimeSpecification></validity><impact><impactOnTraffic>heavy</impactOnTraffic><impactDetails><capacityRemaining>75.0</capacityRemaining><numberOfLanesRestricted>1</numberOfLanesRestricted><numberOfOperationalLanes>3</numberOfOperationalLanes><originalNumberOfLanes>4</originalNumberOfLanes><trafficRestrictionType>carriagewayPartiallyObstructed</trafficRestrictionType></impactDetails><delays><delayTimeValue>600.0</delayTimeValue></delays></impact><nonGeneralPublicComment><comment><value lang=\"en\">On the M25 clockwise between junctions J21A and J22, there are currently delays of 10 mins due to barrier repairs closing one lane following an earlier accident. Normal traffic conditions expected from 11:00 pm.\n",
      "\n",
      "\n",
      "\n",
      "Link to Multimap:\n",
      "\n",
      "Unavailable\n",
      "\n",
      "\n",
      "\n"
     ]
    }
   ],
   "source": [
    "# Comprobamos que el fichero XML ha sido grabado en el disco local\n",
    "print 'FICHERO:'\n",
    "print '========'\n",
    "%ls -l $xmlPath\n",
    "print ''\n",
    "print 'CONTENIDO DEL FICHERO:'\n",
    "print '======================'\n",
    "!head $xmlPath"
   ]
  },
  {
   "cell_type": "code",
   "execution_count": 4,
   "metadata": {
    "collapsed": false
   },
   "outputs": [
    {
     "name": "stdout",
     "output_type": "stream",
     "text": [
      "Elemento raiz del árbol XML:\n",
      "- nombre.....: {http://datex2.eu/schema/1_0/1_0}d2LogicalModel\n",
      "- atributos..: {'modelBaseVersion': '1.0'}\n",
      "- nº de hijos: 2\n"
     ]
    }
   ],
   "source": [
    "# Cargamos el fichero XML en memoria\n",
    "xmlDoc = objectify.parse(xmlPath)\n",
    "raiz = xmlDoc.getroot()\n",
    "\n",
    "print 'Elemento raiz del árbol XML:'\n",
    "print '- nombre.....:', raiz.tag\n",
    "print '- atributos..:', raiz.attrib\n",
    "print '- nº de hijos:', raiz.countchildren()"
   ]
  },
  {
   "cell_type": "code",
   "execution_count": 5,
   "metadata": {
    "collapsed": false
   },
   "outputs": [],
   "source": [
    "# Cargamos los datos que nos interesan en un conjunto de vectores\n",
    "impactOnTraffic = []\n",
    "capacityRemaining = []\n",
    "numberOfLanesRestricted = []\n",
    "numberOfOperationalLanes = []\n",
    "originalNumberOfLanes = []\n",
    "trafficRestrictionType = []\n",
    "delayTimeValue = []\n",
    "situationRecordVersion = []\n",
    "for row in raiz.payloadPublication.situation:\n",
    "    impactOnTraffic.append(row.situationRecord.impact.impactOnTraffic.text)\n",
    "    capacityRemaining.append(row.situationRecord.impact.impactDetails.capacityRemaining.text)\n",
    "    numberOfLanesRestricted.append(row.situationRecord.impact.impactDetails.numberOfLanesRestricted.text)\n",
    "    numberOfOperationalLanes.append(row.situationRecord.impact.impactDetails.numberOfOperationalLanes.text)\n",
    "    originalNumberOfLanes.append(row.situationRecord.impact.impactDetails.originalNumberOfLanes.text)\n",
    "    trafficRestrictionType.append(row.situationRecord.impact.impactDetails.trafficRestrictionType.text)\n",
    "    delayTimeValue.append(row.situationRecord.impact.delays.delayTimeValue.text)\n",
    "    situationRecordVersion.append(row.situationRecord.situationRecordVersion.text)"
   ]
  },
  {
   "cell_type": "code",
   "execution_count": 6,
   "metadata": {
    "collapsed": false
   },
   "outputs": [
    {
     "name": "stdout",
     "output_type": "stream",
     "text": [
      "(6, 8)\n"
     ]
    },
    {
     "data": {
      "text/html": [
       "<div>\n",
       "<table border=\"1\" class=\"dataframe\">\n",
       "  <thead>\n",
       "    <tr style=\"text-align: right;\">\n",
       "      <th></th>\n",
       "      <th>impactOnTraffic</th>\n",
       "      <th>capacityRemaining</th>\n",
       "      <th>numberOfLanesRestricted</th>\n",
       "      <th>numberOfOperationalLanes</th>\n",
       "      <th>originalNumberOfLanes</th>\n",
       "      <th>trafficRestrictionType</th>\n",
       "      <th>delayTimeValue</th>\n",
       "      <th>situationRecordVersion</th>\n",
       "    </tr>\n",
       "  </thead>\n",
       "  <tbody>\n",
       "    <tr>\n",
       "      <th>0</th>\n",
       "      <td>heavy</td>\n",
       "      <td>75.0</td>\n",
       "      <td>1</td>\n",
       "      <td>3</td>\n",
       "      <td>4</td>\n",
       "      <td>carriagewayPartiallyObstructed</td>\n",
       "      <td>600.0</td>\n",
       "      <td>44</td>\n",
       "    </tr>\n",
       "    <tr>\n",
       "      <th>1</th>\n",
       "      <td>impossible</td>\n",
       "      <td>0.0</td>\n",
       "      <td>2</td>\n",
       "      <td>0</td>\n",
       "      <td>2</td>\n",
       "      <td>carriagewayBlocked</td>\n",
       "      <td>900.0</td>\n",
       "      <td>15</td>\n",
       "    </tr>\n",
       "    <tr>\n",
       "      <th>2</th>\n",
       "      <td>impossible</td>\n",
       "      <td>0.0</td>\n",
       "      <td>1</td>\n",
       "      <td>0</td>\n",
       "      <td>1</td>\n",
       "      <td>carriagewayBlocked</td>\n",
       "      <td>600.0</td>\n",
       "      <td>6</td>\n",
       "    </tr>\n",
       "    <tr>\n",
       "      <th>3</th>\n",
       "      <td>impossible</td>\n",
       "      <td>0.0</td>\n",
       "      <td>1</td>\n",
       "      <td>0</td>\n",
       "      <td>1</td>\n",
       "      <td>carriagewayBlocked</td>\n",
       "      <td>0.0</td>\n",
       "      <td>1</td>\n",
       "    </tr>\n",
       "    <tr>\n",
       "      <th>4</th>\n",
       "      <td>impossible</td>\n",
       "      <td>0.0</td>\n",
       "      <td>1</td>\n",
       "      <td>0</td>\n",
       "      <td>1</td>\n",
       "      <td>carriagewayBlocked</td>\n",
       "      <td>0.0</td>\n",
       "      <td>1</td>\n",
       "    </tr>\n",
       "  </tbody>\n",
       "</table>\n",
       "</div>"
      ],
      "text/plain": [
       "  impactOnTraffic  capacityRemaining  numberOfLanesRestricted  \\\n",
       "0           heavy               75.0                        1   \n",
       "1      impossible                0.0                        2   \n",
       "2      impossible                0.0                        1   \n",
       "3      impossible                0.0                        1   \n",
       "4      impossible                0.0                        1   \n",
       "\n",
       "   numberOfOperationalLanes  originalNumberOfLanes  \\\n",
       "0                         3                      4   \n",
       "1                         0                      2   \n",
       "2                         0                      1   \n",
       "3                         0                      1   \n",
       "4                         0                      1   \n",
       "\n",
       "           trafficRestrictionType  delayTimeValue  situationRecordVersion  \n",
       "0  carriagewayPartiallyObstructed           600.0                      44  \n",
       "1              carriagewayBlocked           900.0                      15  \n",
       "2              carriagewayBlocked           600.0                       6  \n",
       "3              carriagewayBlocked             0.0                       1  \n",
       "4              carriagewayBlocked             0.0                       1  "
      ]
     },
     "execution_count": 6,
     "metadata": {},
     "output_type": "execute_result"
    }
   ],
   "source": [
    "# Creamos un dataframe con los datos (convirtiendo el tipo los que sea necesario)\n",
    "data = pd.DataFrame()\n",
    "data['impactOnTraffic'] = impactOnTraffic\n",
    "data['capacityRemaining'] = pd.Series(capacityRemaining, dtype=\"float\")\n",
    "data['numberOfLanesRestricted'] = pd.Series(numberOfLanesRestricted, dtype=\"int32\")\n",
    "data['numberOfOperationalLanes'] = pd.Series(numberOfOperationalLanes, dtype=\"int32\")\n",
    "data['originalNumberOfLanes'] = pd.Series(originalNumberOfLanes, dtype=\"int32\")\n",
    "data['trafficRestrictionType'] = trafficRestrictionType\n",
    "data['delayTimeValue'] = pd.Series(delayTimeValue, dtype=\"float\")\n",
    "data['situationRecordVersion'] = pd.Series(situationRecordVersion, dtype=\"int32\")\n",
    "\n",
    "# Mostramos el nuevo dataframe\n",
    "print data.shape\n",
    "data.head()"
   ]
  },
  {
   "cell_type": "markdown",
   "metadata": {},
   "source": [
    "Se quiere analizar el impacto de los eventos no planificados en la fluidez del tráfico.\n",
    "\n",
    "La variable categórica será la que indica el impacto en el tráfico (impactOnTraffic)."
   ]
  },
  {
   "cell_type": "markdown",
   "metadata": {},
   "source": [
    "El número de carriles restringidos (numberOfLanesRestricted) es una combinación del número de carriles totales (originalNumberOfLanes) y el de carriles disponibles (numberOfOperationalLanes), por lo que estas tres variables pueden reducirse en una: numberOfOperationalLanes.\n",
    "\n",
    "Por otro lado, el número de carriles disponibles está relacionado con la capacidad de tráfico restante (capacityRemaining) y el tipo de restricción (trafficRestrictionType), por lo que podemos eliminar también dos de ellas.\n",
    "\n",
    "Al final, nos quedaremos con la variable capacityRemaining y eliminaremos las variables dependientes: numberOfLanesRestricted, numberOfOperationalLanes, originalNumberOfLanes y trafficRestrictionType."
   ]
  },
  {
   "cell_type": "code",
   "execution_count": 7,
   "metadata": {
    "collapsed": false
   },
   "outputs": [
    {
     "name": "stdout",
     "output_type": "stream",
     "text": [
      "(6, 4)\n"
     ]
    },
    {
     "data": {
      "text/html": [
       "<div>\n",
       "<table border=\"1\" class=\"dataframe\">\n",
       "  <thead>\n",
       "    <tr style=\"text-align: right;\">\n",
       "      <th></th>\n",
       "      <th>impactOnTraffic</th>\n",
       "      <th>capacityRemaining</th>\n",
       "      <th>delayTimeValue</th>\n",
       "      <th>situationRecordVersion</th>\n",
       "    </tr>\n",
       "  </thead>\n",
       "  <tbody>\n",
       "    <tr>\n",
       "      <th>0</th>\n",
       "      <td>heavy</td>\n",
       "      <td>75.0</td>\n",
       "      <td>600.0</td>\n",
       "      <td>44</td>\n",
       "    </tr>\n",
       "    <tr>\n",
       "      <th>1</th>\n",
       "      <td>impossible</td>\n",
       "      <td>0.0</td>\n",
       "      <td>900.0</td>\n",
       "      <td>15</td>\n",
       "    </tr>\n",
       "    <tr>\n",
       "      <th>2</th>\n",
       "      <td>impossible</td>\n",
       "      <td>0.0</td>\n",
       "      <td>600.0</td>\n",
       "      <td>6</td>\n",
       "    </tr>\n",
       "    <tr>\n",
       "      <th>3</th>\n",
       "      <td>impossible</td>\n",
       "      <td>0.0</td>\n",
       "      <td>0.0</td>\n",
       "      <td>1</td>\n",
       "    </tr>\n",
       "    <tr>\n",
       "      <th>4</th>\n",
       "      <td>impossible</td>\n",
       "      <td>0.0</td>\n",
       "      <td>0.0</td>\n",
       "      <td>1</td>\n",
       "    </tr>\n",
       "  </tbody>\n",
       "</table>\n",
       "</div>"
      ],
      "text/plain": [
       "  impactOnTraffic  capacityRemaining  delayTimeValue  situationRecordVersion\n",
       "0           heavy               75.0           600.0                      44\n",
       "1      impossible                0.0           900.0                      15\n",
       "2      impossible                0.0           600.0                       6\n",
       "3      impossible                0.0             0.0                       1\n",
       "4      impossible                0.0             0.0                       1"
      ]
     },
     "execution_count": 7,
     "metadata": {},
     "output_type": "execute_result"
    }
   ],
   "source": [
    "# Asignamos el nuevo conjunto de variables\n",
    "variables = ['impactOnTraffic', 'capacityRemaining', 'delayTimeValue', 'situationRecordVersion']\n",
    "\n",
    "# Creamos el nuevo dataframe\n",
    "datanew = data[variables]\n",
    "\n",
    "# Mostramos el nuevo dataframe\n",
    "print datanew.shape\n",
    "datanew.head()"
   ]
  },
  {
   "cell_type": "markdown",
   "metadata": {},
   "source": [
    "El número de observaciones es muy bajo (6), por lo que no se puede realizar ningún análisis. No obstante, para practicar con las opciones de la librería pandas, vamos a calcular correlaciones y a realizar un pairwise plot."
   ]
  },
  {
   "cell_type": "code",
   "execution_count": 8,
   "metadata": {
    "collapsed": false
   },
   "outputs": [
    {
     "data": {
      "text/html": [
       "<div>\n",
       "<table border=\"1\" class=\"dataframe\">\n",
       "  <thead>\n",
       "    <tr style=\"text-align: right;\">\n",
       "      <th></th>\n",
       "      <th>capacityRemaining</th>\n",
       "      <th>delayTimeValue</th>\n",
       "      <th>situationRecordVersion</th>\n",
       "    </tr>\n",
       "  </thead>\n",
       "  <tbody>\n",
       "    <tr>\n",
       "      <th>capacityRemaining</th>\n",
       "      <td>1.000000</td>\n",
       "      <td>0.116920</td>\n",
       "      <td>0.819149</td>\n",
       "    </tr>\n",
       "    <tr>\n",
       "      <th>delayTimeValue</th>\n",
       "      <td>0.116920</td>\n",
       "      <td>1.000000</td>\n",
       "      <td>0.578049</td>\n",
       "    </tr>\n",
       "    <tr>\n",
       "      <th>situationRecordVersion</th>\n",
       "      <td>0.819149</td>\n",
       "      <td>0.578049</td>\n",
       "      <td>1.000000</td>\n",
       "    </tr>\n",
       "  </tbody>\n",
       "</table>\n",
       "</div>"
      ],
      "text/plain": [
       "                        capacityRemaining  delayTimeValue  \\\n",
       "capacityRemaining                1.000000        0.116920   \n",
       "delayTimeValue                   0.116920        1.000000   \n",
       "situationRecordVersion           0.819149        0.578049   \n",
       "\n",
       "                        situationRecordVersion  \n",
       "capacityRemaining                     0.819149  \n",
       "delayTimeValue                        0.578049  \n",
       "situationRecordVersion                1.000000  "
      ]
     },
     "execution_count": 8,
     "metadata": {},
     "output_type": "execute_result"
    }
   ],
   "source": [
    "datanew.corr(method='pearson')"
   ]
  },
  {
   "cell_type": "code",
   "execution_count": 9,
   "metadata": {
    "collapsed": false
   },
   "outputs": [
    {
     "data": {
      "image/png": "[encoded data removed]",
      "text/plain": [
       "<matplotlib.figure.Figure at 0x7fb55dab8590>"
      ]
     },
     "metadata": {},
     "output_type": "display_data"
    }
   ],
   "source": [
    "sns.pairplot(datanew)\n",
    "plt.show()"
   ]
  },
  {
   "cell_type": "code",
   "execution_count": null,
   "metadata": {
    "collapsed": true
   },
   "outputs": [],
   "source": []
  }
 ],
 "metadata": {
  "kernelspec": {
   "display_name": "Python 2",
   "language": "python",
   "name": "python2"
  },
  "language_info": {
   "codemirror_mode": {
    "name": "ipython",
    "version": 2
   },
   "file_extension": ".py",
   "mimetype": "text/x-python",
   "name": "python",
   "nbconvert_exporter": "python",
   "pygments_lexer": "ipython2",
   "version": "2.7.11"
  }
 },
 "nbformat": 4,
 "nbformat_minor": 0
}
