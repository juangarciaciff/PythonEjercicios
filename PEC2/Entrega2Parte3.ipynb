{
 "cells": [
  {
   "cell_type": "markdown",
   "metadata": {
    "collapsed": true
   },
   "source": [
    "# Prueba de evaluación continua 2\n",
    "## Parte 3: Precipitaciones en USA\n",
    "***\n",
    "- Autor: Juan A. García Cuevas\n",
    "- Fecha: 16/10/2016\n",
    "***"
   ]
  },
  {
   "cell_type": "markdown",
   "metadata": {},
   "source": [
    "# Enunciado\n",
    "\n",
    "El sitio Web NOOA del gobierno de EEUU proporciona datasets de datos climáticos a través de esta página Web:\n",
    "\n",
    "http://www.ncdc.noaa.gov/cdo-web/datasets\n",
    "\n",
    "Entre ellos tenemos los datasets “Quality Controlled Local Climatological Data (QCLCD)” que se describen aquí:\n",
    "\n",
    "http://www.ncdc.noaa.gov/data-access/land-based-station-data/land-baseddatasets/quality-controlled-local-climatological-data-qclcd\n",
    "\n",
    "Entre los datos que se encuentran en los datasets QCLCD están las precipitaciones por años y estaciones. Por ejemplo, podemos descargar los datasets de aquí:\n",
    "\n",
    "http://www.ncdc.noaa.gov/orders/qclcd/\n",
    "\n",
    "Y encontraremos ficheros con datos de precipitaciones como este:\n",
    "\n",
    "    Wban Number, YearMonthDay, Time, Hourly Precip\n",
    "    03013,19960701,0053,0\n",
    "    03013,19960701,0153,0\n",
    "    03013,19960701,0253,0\n",
    "    03013,19960701,0353,0\n",
    "    03013,19960701,0453,0\n",
    "    …\n",
    "\n",
    "Se pide tomar datos de varios años (queda a la elección del estudiante) de este conjunto de\n",
    "datasets para las precipitaciones y obtener los siguientes resúmenes:\n",
    "\n",
    "\n",
    "- Día en que ha habido más precipitaciones.\n",
    "- Año en que ha habido más precipitaciones (obteniendo la media de cada año)\n",
    "\n",
    "Se pide realizar el análisis en dos versiones:\n",
    "\n",
    "- Una utilizando DataFrames y los ficheros de texto que se decargan directamente.\n",
    "- Una segunda con un paso previo en el que se guardan los datos en un fichero HDF5 (que debe contener los metadatos descriptivos necesarios). Queda a la decisión del estudiante cómo organizar los datos en el fichero.\n",
    "\n",
    "Y se pide comparar:\n",
    "\n",
    "- El tamaño en disco que ocupan los datos en cada una de las versiones.\n",
    "- El tiempo comparado de ejecución de los resúmenes anteriores.\n",
    "\n",
    "Opcional: finalmente, se platea el almacenar en el fichero HDF5 los resúmenes mismos obtenidos y comparar el tiempo de recuperación de esos datos del fichero con el tiempo tardado en calcularlo. \n"
   ]
  },
  {
   "cell_type": "markdown",
   "metadata": {
    "collapsed": true
   },
   "source": [
    " # Resolución"
   ]
  },
  {
   "cell_type": "code",
   "execution_count": 1,
   "metadata": {
    "collapsed": true
   },
   "outputs": [],
   "source": [
    "# Importamos librerías\n",
    "\n",
    "from urllib import urlretrieve, urlcleanup\n",
    "import zipfile\n",
    "import os.path\n",
    "import os, sys\n",
    "from time import time \n",
    "import numpy as np\n",
    "import pandas as pd"
   ]
  },
  {
   "cell_type": "code",
   "execution_count": 2,
   "metadata": {
    "collapsed": false
   },
   "outputs": [
    {
     "name": "stdout",
     "output_type": "stream",
     "text": [
      "Lista de fechas de los archivos a descargar:\n",
      "['201401', '201402', '201403', '201404', '201405', '201406', '201407', '201408', '201409', '201410', '201411', '201412', '201501', '201502', '201503', '201504', '201505', '201506', '201507', '201508', '201509', '201510', '201511', '201512']\n"
     ]
    }
   ],
   "source": [
    "# Vamos a trabajar con los datos de los años 2014 al 2015.\n",
    "# Por ello, iniciamos las siguientes variables:\n",
    "anioini = 2014\n",
    "aniofin = 2015\n",
    "mesini =  1\n",
    "mesfin = 12\n",
    "\n",
    "# Lista de fechas que vamos a tratar\n",
    "listafechas = []\n",
    "for anio in range(anioini, aniofin + 1):\n",
    "    for mes in range(mesini, mesfin + 1):\n",
    "        listafechas.append(str(anio*100 + mes))\n",
    "print 'Lista de fechas de los archivos a descargar:\\n', listafechas"
   ]
  },
  {
   "cell_type": "code",
   "execution_count": 3,
   "metadata": {
    "collapsed": true
   },
   "outputs": [],
   "source": [
    "# Función para descargar un archivo de internet\n",
    "def download(xmlUrl, xmlPath):\n",
    "    print 'Descargando', xmlUrl\n",
    "    tiempo_inicial = time()\n",
    "#    urlretrieve(xmlUrl, xmlPath)\n",
    "#    urlcleanup()\n",
    "    tiempo_final = time() \n",
    "    tiempo_ejecucion = tiempo_final - tiempo_inicial\n",
    "    print '... tiempo de descarga:', round(tiempo_ejecucion, 3), 'sg.'\n",
    "\n",
    "# Función para leer el contenido de un fichero ZIP\n",
    "def leer_zip(ficherozip):\n",
    "    fzip = zipfile.ZipFile(ficherozip, 'r')\n",
    "    #for item in fzip.namelist():\n",
    "        #print '\\nFichero: ', item\n",
    "        #print ' - Fecha última modificación:', str(fzip.getinfo(item).date_time)\n",
    "        #print ' - Sistema que lo creó......:', str(fzip.getinfo(item).create_system)\n",
    "        #print ' - Tamaño comprimido........:', str(fzip.getinfo(item).compress_size)\n",
    "        #print ' - Tamaño descomprimido.....:', str(fzip.getinfo(item).file_size)\n",
    "        #print ' - Tipo de compresión.......:', str(fzip.getinfo(item).compress_type)\n",
    "    return fzip"
   ]
  },
  {
   "cell_type": "code",
   "execution_count": 4,
   "metadata": {
    "collapsed": false
   },
   "outputs": [
    {
     "name": "stdout",
     "output_type": "stream",
     "text": [
      "Descargando http://www.ncdc.noaa.gov/orders/qclcd/QCLCD201401.zip\n",
      "... tiempo de descarga: 0.0 sg.\n",
      "Descargando http://www.ncdc.noaa.gov/orders/qclcd/QCLCD201402.zip\n",
      "... tiempo de descarga: 0.0 sg.\n",
      "Descargando http://www.ncdc.noaa.gov/orders/qclcd/QCLCD201403.zip\n",
      "... tiempo de descarga: 0.0 sg.\n",
      "Descargando http://www.ncdc.noaa.gov/orders/qclcd/QCLCD201404.zip\n",
      "... tiempo de descarga: 0.0 sg.\n",
      "Descargando http://www.ncdc.noaa.gov/orders/qclcd/QCLCD201405.zip\n",
      "... tiempo de descarga: 0.0 sg.\n",
      "Descargando http://www.ncdc.noaa.gov/orders/qclcd/QCLCD201406.zip\n",
      "... tiempo de descarga: 0.0 sg.\n",
      "Descargando http://www.ncdc.noaa.gov/orders/qclcd/QCLCD201407.zip\n",
      "... tiempo de descarga: 0.0 sg.\n",
      "Descargando http://www.ncdc.noaa.gov/orders/qclcd/QCLCD201408.zip\n",
      "... tiempo de descarga: 0.0 sg.\n",
      "Descargando http://www.ncdc.noaa.gov/orders/qclcd/QCLCD201409.zip\n",
      "... tiempo de descarga: 0.0 sg.\n",
      "Descargando http://www.ncdc.noaa.gov/orders/qclcd/QCLCD201410.zip\n",
      "... tiempo de descarga: 0.0 sg.\n",
      "Descargando http://www.ncdc.noaa.gov/orders/qclcd/QCLCD201411.zip\n",
      "... tiempo de descarga: 0.0 sg.\n",
      "Descargando http://www.ncdc.noaa.gov/orders/qclcd/QCLCD201412.zip\n",
      "... tiempo de descarga: 0.0 sg.\n",
      "Descargando http://www.ncdc.noaa.gov/orders/qclcd/QCLCD201501.zip\n",
      "... tiempo de descarga: 0.0 sg.\n",
      "Descargando http://www.ncdc.noaa.gov/orders/qclcd/QCLCD201502.zip\n",
      "... tiempo de descarga: 0.0 sg.\n",
      "Descargando http://www.ncdc.noaa.gov/orders/qclcd/QCLCD201503.zip\n",
      "... tiempo de descarga: 0.0 sg.\n",
      "Descargando http://www.ncdc.noaa.gov/orders/qclcd/QCLCD201504.zip\n",
      "... tiempo de descarga: 0.0 sg.\n",
      "Descargando http://www.ncdc.noaa.gov/orders/qclcd/QCLCD201505.zip\n",
      "... tiempo de descarga: 0.0 sg.\n",
      "Descargando http://www.ncdc.noaa.gov/orders/qclcd/QCLCD201506.zip\n",
      "... tiempo de descarga: 0.0 sg.\n",
      "Descargando http://www.ncdc.noaa.gov/orders/qclcd/QCLCD201507.zip\n",
      "... tiempo de descarga: 0.0 sg.\n",
      "Descargando http://www.ncdc.noaa.gov/orders/qclcd/QCLCD201508.zip\n",
      "... tiempo de descarga: 0.0 sg.\n",
      "Descargando http://www.ncdc.noaa.gov/orders/qclcd/QCLCD201509.zip\n",
      "... tiempo de descarga: 0.0 sg.\n",
      "Descargando http://www.ncdc.noaa.gov/orders/qclcd/QCLCD201510.zip\n",
      "... tiempo de descarga: 0.0 sg.\n",
      "Descargando http://www.ncdc.noaa.gov/orders/qclcd/QCLCD201511.zip\n",
      "... tiempo de descarga: 0.0 sg.\n",
      "Descargando http://www.ncdc.noaa.gov/orders/qclcd/QCLCD201512.zip\n",
      "... tiempo de descarga: 0.0 sg.\n"
     ]
    }
   ],
   "source": [
    "# Descargamos los ficheros ZIP de http://www.ncdc.noaa.gov\n",
    "for fecha in listafechas:\n",
    "    xmlUrl = 'http://www.ncdc.noaa.gov/orders/qclcd/QCLCD' + fecha + '.zip'\n",
    "    xmlPath = 'QCLCD' + fecha + '.zip'\n",
    "    download(xmlUrl, xmlPath)"
   ]
  },
  {
   "cell_type": "markdown",
   "metadata": {},
   "source": [
    " ## Cargamos los datos en un dataframe"
   ]
  },
  {
   "cell_type": "code",
   "execution_count": 5,
   "metadata": {
    "collapsed": false
   },
   "outputs": [
    {
     "name": "stdout",
     "output_type": "stream",
     "text": [
      "\n",
      "********************************************************************************\n",
      "*** Tratando fichero 1 de 24 : QCLCD201401.zip\n",
      "*** Extracto del fichero de precipitaciones:\n",
      "Wban,YearMonthDay,Hour,Precipitation,PrecipitationFlag\n",
      "03011,20140101,01, , \n",
      "03011,20140101,02, , \n",
      "0 ...\n",
      "\n",
      "********************************************************************************\n",
      "*** Tratando fichero 2 de 24 : QCLCD201402.zip\n",
      "*** Extracto del fichero de precipitaciones:\n",
      "Wban,YearMonthDay,Hour,Precipitation,PrecipitationFlag\n",
      "03011,20140201,01, , \n",
      "03011,20140201,02, , \n",
      "0 ...\n",
      "\n",
      "********************************************************************************\n",
      "*** Tratando fichero 3 de 24 : QCLCD201403.zip\n",
      "*** Extracto del fichero de precipitaciones:\n",
      "Wban,YearMonthDay,Hour,Precipitation,PrecipitationFlag\n",
      "03011,20140301,01, , \n",
      "03011,20140301,02, , \n",
      "0 ...\n",
      "\n",
      "********************************************************************************\n",
      "*** Tratando fichero 4 de 24 : QCLCD201404.zip\n",
      "*** Extracto del fichero de precipitaciones:\n",
      "Wban,YearMonthDay,Hour,Precipitation,PrecipitationFlag\n",
      "03011,20140401,01, , \n",
      "03011,20140401,02, , \n",
      "0 ...\n",
      "\n",
      "********************************************************************************\n",
      "*** Tratando fichero 5 de 24 : QCLCD201405.zip\n",
      "*** Extracto del fichero de precipitaciones:\n",
      "Wban,YearMonthDay,Hour,Precipitation,PrecipitationFlag\n",
      "03011,20140501,01, , \n",
      "03011,20140501,02, , \n",
      "0 ...\n",
      "\n",
      "********************************************************************************\n",
      "*** Tratando fichero 6 de 24 : QCLCD201406.zip\n",
      "*** Extracto del fichero de precipitaciones:\n",
      "Wban,YearMonthDay,Hour,Precipitation,PrecipitationFlag\n",
      "03011,20140601,01, , \n",
      "03011,20140601,02, , \n",
      "0 ...\n",
      "\n",
      "********************************************************************************\n",
      "*** Tratando fichero 7 de 24 : QCLCD201407.zip\n",
      "*** Extracto del fichero de precipitaciones:\n",
      "Wban,YearMonthDay,Hour,Precipitation,PrecipitationFlag\n",
      "00103,20140701,01, , \n",
      "00103,20140701,02, , \n",
      "0 ...\n",
      "\n",
      "********************************************************************************\n",
      "*** Tratando fichero 8 de 24 : QCLCD201408.zip\n",
      "*** Extracto del fichero de precipitaciones:\n",
      "Wban,YearMonthDay,Hour,Precipitation,PrecipitationFlag\n",
      "00102,20140801,01, , \n",
      "00102,20140801,02, , \n",
      "0 ...\n",
      "\n",
      "********************************************************************************\n",
      "*** Tratando fichero 9 de 24 : QCLCD201409.zip\n",
      "*** Extracto del fichero de precipitaciones:\n",
      "Wban,YearMonthDay,Hour,Precipitation,PrecipitationFlag\n",
      "00102,20140901,01, , \n",
      "00102,20140901,02, , \n",
      "0 ...\n",
      "\n",
      "********************************************************************************\n",
      "*** Tratando fichero 10 de 24 : QCLCD201410.zip\n",
      "*** Extracto del fichero de precipitaciones:\n",
      "Wban,YearMonthDay,Hour,Precipitation,PrecipitationFlag\n",
      "00102,20141001,01, , \n",
      "00102,20141001,02, , \n",
      "0 ...\n",
      "\n",
      "********************************************************************************\n",
      "*** Tratando fichero 11 de 24 : QCLCD201411.zip\n",
      "*** Extracto del fichero de precipitaciones:\n",
      "Wban,YearMonthDay,Hour,Precipitation,PrecipitationFlag\n",
      "00102,20141101,01, , \n",
      "00102,20141101,02, , \n",
      "0 ...\n",
      "\n",
      "********************************************************************************\n",
      "*** Tratando fichero 12 de 24 : QCLCD201412.zip\n",
      "*** Extracto del fichero de precipitaciones:\n",
      "Wban,YearMonthDay,Hour,Precipitation,PrecipitationFlag\n",
      "00102,20141201,01, , \n",
      "00102,20141201,02, , \n",
      "0 ...\n",
      "\n",
      "********************************************************************************\n",
      "*** Tratando fichero 13 de 24 : QCLCD201501.zip\n",
      "*** Extracto del fichero de precipitaciones:\n",
      "Wban,YearMonthDay,Hour,Precipitation,PrecipitationFlag\n",
      "00102,20150101,01, , \n",
      "00102,20150101,02, , \n",
      "0 ...\n",
      "\n",
      "********************************************************************************\n",
      "*** Tratando fichero 14 de 24 : QCLCD201502.zip\n",
      "*** Extracto del fichero de precipitaciones:\n",
      "Wban,YearMonthDay,Hour,Precipitation,PrecipitationFlag\n",
      "00102,20150201,01,  T, \n",
      "00102,20150201,02, ,  ...\n",
      "\n",
      "********************************************************************************\n",
      "*** Tratando fichero 15 de 24 : QCLCD201503.zip\n",
      "*** Extracto del fichero de precipitaciones:\n",
      "Wban,YearMonthDay,Hour,Precipitation,PrecipitationFlag\n",
      "00102,20150301,01, , \n",
      "00102,20150301,02, , \n",
      "0 ...\n",
      "\n",
      "********************************************************************************\n",
      "*** Tratando fichero 16 de 24 : QCLCD201504.zip\n",
      "*** Extracto del fichero de precipitaciones:\n",
      "Wban,YearMonthDay,Hour,Precipitation,PrecipitationFlag\n",
      "00102,20150401,01, , \n",
      "00102,20150401,02, , \n",
      "0 ...\n",
      "\n",
      "********************************************************************************\n",
      "*** Tratando fichero 17 de 24 : QCLCD201505.zip\n",
      "*** Extracto del fichero de precipitaciones:\n",
      "Wban,YearMonthDay,Hour,Precipitation,PrecipitationFlag\n",
      "00102,20150501,01, , \n",
      "00102,20150501,02, , \n",
      "0 ...\n",
      "\n",
      "********************************************************************************\n",
      "*** Tratando fichero 18 de 24 : QCLCD201506.zip\n",
      "*** Extracto del fichero de precipitaciones:\n",
      "Wban,YearMonthDay,Hour,Precipitation,PrecipitationFlag\n",
      "00102,20150601,01, , \n",
      "00102,20150601,02, , \n",
      "0 ...\n",
      "\n",
      "********************************************************************************\n",
      "*** Tratando fichero 19 de 24 : QCLCD201507.zip\n",
      "*** Extracto del fichero de precipitaciones:\n",
      "Wban,YearMonthDay,Hour,Precipitation,PrecipitationFlag\n",
      "00102,20150701,01, , \n",
      "00102,20150701,02, , \n",
      "0 ...\n",
      "\n",
      "********************************************************************************\n",
      "*** Tratando fichero 20 de 24 : QCLCD201508.zip\n",
      "*** Extracto del fichero de precipitaciones:\n",
      "Wban,YearMonthDay,Hour,Precipitation,PrecipitationFlag\n",
      "00102,20150801,01, , \n",
      "00102,20150801,02, , \n",
      "0 ...\n",
      "\n",
      "********************************************************************************\n",
      "*** Tratando fichero 21 de 24 : QCLCD201509.zip\n",
      "*** Extracto del fichero de precipitaciones:\n",
      "Wban,YearMonthDay,Hour,Precipitation,PrecipitationFlag\n",
      "00102,20150901,01, , \n",
      "00102,20150901,02, , \n",
      "0 ...\n",
      "\n",
      "********************************************************************************\n",
      "*** Tratando fichero 22 de 24 : QCLCD201510.zip\n",
      "*** Extracto del fichero de precipitaciones:\n",
      "Wban,YearMonthDay,Hour,Precipitation,PrecipitationFlag\n",
      "00102,20151001,01, , \n",
      "00102,20151001,02, , \n",
      "0 ...\n",
      "\n",
      "********************************************************************************\n",
      "*** Tratando fichero 23 de 24 : QCLCD201511.zip\n",
      "*** Extracto del fichero de precipitaciones:\n",
      "Wban,YearMonthDay,Hour,Precipitation,PrecipitationFlag\n",
      "00102,20151101,01,  T, \n",
      "00102,20151101,02,  T ...\n",
      "\n",
      "********************************************************************************\n",
      "*** Tratando fichero 24 de 24 : QCLCD201512.zip\n",
      "*** Extracto del fichero de precipitaciones:\n",
      "Wban,YearMonthDay,Hour,Precipitation,PrecipitationFlag\n",
      "00102,20151201,01, , \n",
      "00102,20151201,02, , \n",
      "0 ...\n"
     ]
    }
   ],
   "source": [
    "# Creamos un dataframe para agregar los datos\n",
    "lista = []\n",
    "\n",
    "# Leemos los ficheros ZIP y añadimos los datos de precipitaciones al dataframe de trabajo\n",
    "contador = 0\n",
    "for fecha in listafechas:\n",
    "    contador = contador + 1\n",
    "    \n",
    "    # Leemos el fichero ZIP\n",
    "    namezip = 'QCLCD' + fecha + '.zip'\n",
    "    print '\\n********************************************************************************'\n",
    "    print '*** Tratando fichero', contador, 'de', len(listafechas),':', namezip\n",
    "    fzip = leer_zip(namezip)\n",
    "\n",
    "    # Leemos el fichero TXT de precipitaciones\n",
    "    nametxt = fecha + 'precip.txt'\n",
    "    ftxt = fzip.read(nametxt)\n",
    "    fzip.close()\n",
    "    print '*** Extracto del fichero de precipitaciones:\\n', ftxt[0:100], '...'\n",
    "\n",
    "    outfile = open(nametxt, 'w')\n",
    "    outfile.write(ftxt)\n",
    "    outfile.close()    \n",
    "\n",
    "    dfaux = pd.read_csv(nametxt, index_col=None, header=0)\n",
    "    lista.append(dfaux)\n",
    "\n",
    "df = pd.concat(lista) \n"
   ]
  },
  {
   "cell_type": "code",
   "execution_count": 6,
   "metadata": {
    "collapsed": false
   },
   "outputs": [
    {
     "name": "stdout",
     "output_type": "stream",
     "text": [
      "(39083496, 5)\n"
     ]
    },
    {
     "data": {
      "text/html": [
       "<div>\n",
       "<table border=\"1\" class=\"dataframe\">\n",
       "  <thead>\n",
       "    <tr style=\"text-align: right;\">\n",
       "      <th></th>\n",
       "      <th>Wban</th>\n",
       "      <th>YearMonthDay</th>\n",
       "      <th>Hour</th>\n",
       "      <th>Precipitation</th>\n",
       "      <th>PrecipitationFlag</th>\n",
       "    </tr>\n",
       "  </thead>\n",
       "  <tbody>\n",
       "    <tr>\n",
       "      <th>0</th>\n",
       "      <td>3011</td>\n",
       "      <td>20140101</td>\n",
       "      <td>1</td>\n",
       "      <td></td>\n",
       "      <td></td>\n",
       "    </tr>\n",
       "    <tr>\n",
       "      <th>1</th>\n",
       "      <td>3011</td>\n",
       "      <td>20140101</td>\n",
       "      <td>2</td>\n",
       "      <td></td>\n",
       "      <td></td>\n",
       "    </tr>\n",
       "    <tr>\n",
       "      <th>2</th>\n",
       "      <td>3011</td>\n",
       "      <td>20140101</td>\n",
       "      <td>3</td>\n",
       "      <td></td>\n",
       "      <td></td>\n",
       "    </tr>\n",
       "    <tr>\n",
       "      <th>3</th>\n",
       "      <td>3011</td>\n",
       "      <td>20140101</td>\n",
       "      <td>4</td>\n",
       "      <td></td>\n",
       "      <td></td>\n",
       "    </tr>\n",
       "    <tr>\n",
       "      <th>4</th>\n",
       "      <td>3011</td>\n",
       "      <td>20140101</td>\n",
       "      <td>5</td>\n",
       "      <td></td>\n",
       "      <td></td>\n",
       "    </tr>\n",
       "  </tbody>\n",
       "</table>\n",
       "</div>"
      ],
      "text/plain": [
       "   Wban  YearMonthDay  Hour Precipitation PrecipitationFlag\n",
       "0  3011      20140101     1                                \n",
       "1  3011      20140101     2                                \n",
       "2  3011      20140101     3                                \n",
       "3  3011      20140101     4                                \n",
       "4  3011      20140101     5                                "
      ]
     },
     "execution_count": 6,
     "metadata": {},
     "output_type": "execute_result"
    }
   ],
   "source": [
    "# Mostramos información del dataframe resultante\n",
    "print df.shape\n",
    "df.head()"
   ]
  },
  {
   "cell_type": "code",
   "execution_count": 7,
   "metadata": {
    "collapsed": false
   },
   "outputs": [
    {
     "name": "stdout",
     "output_type": "stream",
     "text": [
      "(39083496, 6)\n"
     ]
    },
    {
     "data": {
      "text/html": [
       "<div>\n",
       "<table border=\"1\" class=\"dataframe\">\n",
       "  <thead>\n",
       "    <tr style=\"text-align: right;\">\n",
       "      <th></th>\n",
       "      <th>Wban</th>\n",
       "      <th>YearMonthDay</th>\n",
       "      <th>Hour</th>\n",
       "      <th>Precipitation</th>\n",
       "      <th>PrecipitationFlag</th>\n",
       "      <th>PrecipitationNum</th>\n",
       "    </tr>\n",
       "  </thead>\n",
       "  <tbody>\n",
       "    <tr>\n",
       "      <th>0</th>\n",
       "      <td>3011</td>\n",
       "      <td>20140101</td>\n",
       "      <td>1</td>\n",
       "      <td></td>\n",
       "      <td></td>\n",
       "      <td>NaN</td>\n",
       "    </tr>\n",
       "    <tr>\n",
       "      <th>1</th>\n",
       "      <td>3011</td>\n",
       "      <td>20140101</td>\n",
       "      <td>2</td>\n",
       "      <td></td>\n",
       "      <td></td>\n",
       "      <td>NaN</td>\n",
       "    </tr>\n",
       "    <tr>\n",
       "      <th>2</th>\n",
       "      <td>3011</td>\n",
       "      <td>20140101</td>\n",
       "      <td>3</td>\n",
       "      <td></td>\n",
       "      <td></td>\n",
       "      <td>NaN</td>\n",
       "    </tr>\n",
       "    <tr>\n",
       "      <th>3</th>\n",
       "      <td>3011</td>\n",
       "      <td>20140101</td>\n",
       "      <td>4</td>\n",
       "      <td></td>\n",
       "      <td></td>\n",
       "      <td>NaN</td>\n",
       "    </tr>\n",
       "    <tr>\n",
       "      <th>4</th>\n",
       "      <td>3011</td>\n",
       "      <td>20140101</td>\n",
       "      <td>5</td>\n",
       "      <td></td>\n",
       "      <td></td>\n",
       "      <td>NaN</td>\n",
       "    </tr>\n",
       "  </tbody>\n",
       "</table>\n",
       "</div>"
      ],
      "text/plain": [
       "   Wban  YearMonthDay  Hour Precipitation PrecipitationFlag  PrecipitationNum\n",
       "0  3011      20140101     1                                               NaN\n",
       "1  3011      20140101     2                                               NaN\n",
       "2  3011      20140101     3                                               NaN\n",
       "3  3011      20140101     4                                               NaN\n",
       "4  3011      20140101     5                                               NaN"
      ]
     },
     "execution_count": 7,
     "metadata": {},
     "output_type": "execute_result"
    }
   ],
   "source": [
    "# Convertimos la variable Precipitation a tipo numérico \n",
    "df['PrecipitationNum'] = pd.to_numeric(df['Precipitation'], errors = 'coerce')\n",
    "print df.shape\n",
    "df.head()"
   ]
  },
  {
   "cell_type": "code",
   "execution_count": 8,
   "metadata": {
    "collapsed": false
   },
   "outputs": [
    {
     "name": "stdout",
     "output_type": "stream",
     "text": [
      "(1739420, 6)\n"
     ]
    },
    {
     "data": {
      "text/html": [
       "<div>\n",
       "<table border=\"1\" class=\"dataframe\">\n",
       "  <thead>\n",
       "    <tr style=\"text-align: right;\">\n",
       "      <th></th>\n",
       "      <th>Wban</th>\n",
       "      <th>YearMonthDay</th>\n",
       "      <th>Hour</th>\n",
       "      <th>Precipitation</th>\n",
       "      <th>PrecipitationFlag</th>\n",
       "      <th>PrecipitationNum</th>\n",
       "    </tr>\n",
       "  </thead>\n",
       "  <tbody>\n",
       "    <tr>\n",
       "      <th>251</th>\n",
       "      <td>3011</td>\n",
       "      <td>20140111</td>\n",
       "      <td>12</td>\n",
       "      <td>0.03</td>\n",
       "      <td></td>\n",
       "      <td>0.03</td>\n",
       "    </tr>\n",
       "    <tr>\n",
       "      <th>299</th>\n",
       "      <td>3011</td>\n",
       "      <td>20140113</td>\n",
       "      <td>12</td>\n",
       "      <td>0.01</td>\n",
       "      <td></td>\n",
       "      <td>0.01</td>\n",
       "    </tr>\n",
       "    <tr>\n",
       "      <th>1463</th>\n",
       "      <td>3012</td>\n",
       "      <td>20140130</td>\n",
       "      <td>24</td>\n",
       "      <td>0.01</td>\n",
       "      <td></td>\n",
       "      <td>0.01</td>\n",
       "    </tr>\n",
       "    <tr>\n",
       "      <th>1499</th>\n",
       "      <td>3013</td>\n",
       "      <td>20140101</td>\n",
       "      <td>12</td>\n",
       "      <td>0.01</td>\n",
       "      <td></td>\n",
       "      <td>0.01</td>\n",
       "    </tr>\n",
       "    <tr>\n",
       "      <th>1575</th>\n",
       "      <td>3013</td>\n",
       "      <td>20140104</td>\n",
       "      <td>16</td>\n",
       "      <td>0.01</td>\n",
       "      <td></td>\n",
       "      <td>0.01</td>\n",
       "    </tr>\n",
       "  </tbody>\n",
       "</table>\n",
       "</div>"
      ],
      "text/plain": [
       "      Wban  YearMonthDay  Hour Precipitation PrecipitationFlag  \\\n",
       "251   3011      20140111    12          0.03                     \n",
       "299   3011      20140113    12          0.01                     \n",
       "1463  3012      20140130    24          0.01                     \n",
       "1499  3013      20140101    12          0.01                     \n",
       "1575  3013      20140104    16          0.01                     \n",
       "\n",
       "      PrecipitationNum  \n",
       "251               0.03  \n",
       "299               0.01  \n",
       "1463              0.01  \n",
       "1499              0.01  \n",
       "1575              0.01  "
      ]
     },
     "execution_count": 8,
     "metadata": {},
     "output_type": "execute_result"
    }
   ],
   "source": [
    "# Eliminamos los registros que no recojen precipitaciones\n",
    "df = df[np.isfinite(df['PrecipitationNum'])]\n",
    "print df.shape\n",
    "df.head()"
   ]
  },
  {
   "cell_type": "code",
   "execution_count": 9,
   "metadata": {
    "collapsed": false
   },
   "outputs": [
    {
     "name": "stdout",
     "output_type": "stream",
     "text": [
      "(1739420, 7)\n"
     ]
    },
    {
     "data": {
      "text/html": [
       "<div>\n",
       "<table border=\"1\" class=\"dataframe\">\n",
       "  <thead>\n",
       "    <tr style=\"text-align: right;\">\n",
       "      <th></th>\n",
       "      <th>Wban</th>\n",
       "      <th>YearMonthDay</th>\n",
       "      <th>Hour</th>\n",
       "      <th>Precipitation</th>\n",
       "      <th>PrecipitationFlag</th>\n",
       "      <th>PrecipitationNum</th>\n",
       "      <th>Year</th>\n",
       "    </tr>\n",
       "  </thead>\n",
       "  <tbody>\n",
       "    <tr>\n",
       "      <th>251</th>\n",
       "      <td>3011</td>\n",
       "      <td>20140111</td>\n",
       "      <td>12</td>\n",
       "      <td>0.03</td>\n",
       "      <td></td>\n",
       "      <td>0.03</td>\n",
       "      <td>2014</td>\n",
       "    </tr>\n",
       "    <tr>\n",
       "      <th>299</th>\n",
       "      <td>3011</td>\n",
       "      <td>20140113</td>\n",
       "      <td>12</td>\n",
       "      <td>0.01</td>\n",
       "      <td></td>\n",
       "      <td>0.01</td>\n",
       "      <td>2014</td>\n",
       "    </tr>\n",
       "    <tr>\n",
       "      <th>1463</th>\n",
       "      <td>3012</td>\n",
       "      <td>20140130</td>\n",
       "      <td>24</td>\n",
       "      <td>0.01</td>\n",
       "      <td></td>\n",
       "      <td>0.01</td>\n",
       "      <td>2014</td>\n",
       "    </tr>\n",
       "    <tr>\n",
       "      <th>1499</th>\n",
       "      <td>3013</td>\n",
       "      <td>20140101</td>\n",
       "      <td>12</td>\n",
       "      <td>0.01</td>\n",
       "      <td></td>\n",
       "      <td>0.01</td>\n",
       "      <td>2014</td>\n",
       "    </tr>\n",
       "    <tr>\n",
       "      <th>1575</th>\n",
       "      <td>3013</td>\n",
       "      <td>20140104</td>\n",
       "      <td>16</td>\n",
       "      <td>0.01</td>\n",
       "      <td></td>\n",
       "      <td>0.01</td>\n",
       "      <td>2014</td>\n",
       "    </tr>\n",
       "  </tbody>\n",
       "</table>\n",
       "</div>"
      ],
      "text/plain": [
       "      Wban  YearMonthDay  Hour Precipitation PrecipitationFlag  \\\n",
       "251   3011      20140111    12          0.03                     \n",
       "299   3011      20140113    12          0.01                     \n",
       "1463  3012      20140130    24          0.01                     \n",
       "1499  3013      20140101    12          0.01                     \n",
       "1575  3013      20140104    16          0.01                     \n",
       "\n",
       "      PrecipitationNum  Year  \n",
       "251               0.03  2014  \n",
       "299               0.01  2014  \n",
       "1463              0.01  2014  \n",
       "1499              0.01  2014  \n",
       "1575              0.01  2014  "
      ]
     },
     "execution_count": 9,
     "metadata": {},
     "output_type": "execute_result"
    }
   ],
   "source": [
    "# Creamos una variable año para poder agrupar\n",
    "df['Year'] = df.YearMonthDay.apply(lambda x: str(x)[0:4])\n",
    "print df.shape\n",
    "df.head()"
   ]
  },
  {
   "cell_type": "code",
   "execution_count": 10,
   "metadata": {
    "collapsed": false
   },
   "outputs": [
    {
     "name": "stdout",
     "output_type": "stream",
     "text": [
      "(1739420, 3)\n"
     ]
    },
    {
     "data": {
      "text/html": [
       "<div>\n",
       "<table border=\"1\" class=\"dataframe\">\n",
       "  <thead>\n",
       "    <tr style=\"text-align: right;\">\n",
       "      <th></th>\n",
       "      <th>YearMonthDay</th>\n",
       "      <th>Year</th>\n",
       "      <th>PrecipitationNum</th>\n",
       "    </tr>\n",
       "  </thead>\n",
       "  <tbody>\n",
       "    <tr>\n",
       "      <th>251</th>\n",
       "      <td>20140111</td>\n",
       "      <td>2014</td>\n",
       "      <td>0.03</td>\n",
       "    </tr>\n",
       "    <tr>\n",
       "      <th>299</th>\n",
       "      <td>20140113</td>\n",
       "      <td>2014</td>\n",
       "      <td>0.01</td>\n",
       "    </tr>\n",
       "    <tr>\n",
       "      <th>1463</th>\n",
       "      <td>20140130</td>\n",
       "      <td>2014</td>\n",
       "      <td>0.01</td>\n",
       "    </tr>\n",
       "    <tr>\n",
       "      <th>1499</th>\n",
       "      <td>20140101</td>\n",
       "      <td>2014</td>\n",
       "      <td>0.01</td>\n",
       "    </tr>\n",
       "    <tr>\n",
       "      <th>1575</th>\n",
       "      <td>20140104</td>\n",
       "      <td>2014</td>\n",
       "      <td>0.01</td>\n",
       "    </tr>\n",
       "  </tbody>\n",
       "</table>\n",
       "</div>"
      ],
      "text/plain": [
       "      YearMonthDay  Year  PrecipitationNum\n",
       "251       20140111  2014              0.03\n",
       "299       20140113  2014              0.01\n",
       "1463      20140130  2014              0.01\n",
       "1499      20140101  2014              0.01\n",
       "1575      20140104  2014              0.01"
      ]
     },
     "execution_count": 10,
     "metadata": {},
     "output_type": "execute_result"
    }
   ],
   "source": [
    "# Eliminamos las variables que no aportan información relevante para el problema\n",
    "df = df[['YearMonthDay', 'Year', 'PrecipitationNum']]\n",
    "print df.shape\n",
    "df.head()"
   ]
  },
  {
   "cell_type": "markdown",
   "metadata": {
    "collapsed": true
   },
   "source": [
    "## Hacemos los cálculos con el dataframe "
   ]
  },
  {
   "cell_type": "code",
   "execution_count": 11,
   "metadata": {
    "collapsed": false
   },
   "outputs": [
    {
     "name": "stdout",
     "output_type": "stream",
     "text": [
      "\n",
      "*** Fecha de mayor precipitación:\n",
      "Fecha........: PrecipitationNum    20141016\n",
      "dtype: int64\n",
      "Precipitación: PrecipitationNum    13010140.27\n",
      "dtype: float64\n",
      "\n",
      "*** Año de mayor precipitación:\n",
      "Year\n",
      "2014    30.783033\n",
      "2015    10.200522\n",
      "Name: PrecipitationNum, dtype: float64\n",
      "\n",
      "*** Tiempo de cálculo:\n",
      "0.368 sg.\n"
     ]
    }
   ],
   "source": [
    "# Tomamos el tiempo al inicio de los cálculos\n",
    "timeIniDF = time()\n",
    "\n",
    "# Calculamos el día que ha habido más precipitaciones\n",
    "print '\\n*** Fecha de mayor precipitación:'\n",
    "dfByDay = df[['YearMonthDay', 'PrecipitationNum']].groupby('YearMonthDay').aggregate(np.sum)\n",
    "print \"Fecha........:\", dfByDay.idxmax()\n",
    "print \"Precipitación:\", dfByDay.max()\n",
    "\n",
    "# Calculamos el año en que ha habido más precipitaciones (obteniendo la media de cada año)\n",
    "print '\\n*** Año de mayor precipitación:'\n",
    "dfByYear = df.groupby(['Year'])\n",
    "dfByYear['PrecipitationNum'].aggregate(np.mean)\n",
    "annualAverage = dfByYear['PrecipitationNum'].aggregate(np.mean)\n",
    "print(annualAverage)\n",
    "\n",
    "# Tomamos el tiempo al final de los cálculos y obtenemos el tiempo total\n",
    "timeFinDF = time() \n",
    "timeExeDF = timeFinDF - timeIniDF\n",
    "print '\\n*** Tiempo de cálculo:'\n",
    "print round(timeExeDF, 3), 'sg.'"
   ]
  },
  {
   "cell_type": "code",
   "execution_count": 12,
   "metadata": {
    "collapsed": false
   },
   "outputs": [
    {
     "name": "stdout",
     "output_type": "stream",
     "text": [
      "Tamaño en memoria: 5218260\n"
     ]
    }
   ],
   "source": [
    "# Obtenemos el tamaño de los datos en memoria\n",
    "sizeMemory = df.size\n",
    "print \"Tamaño en memoria:\", sizeMemory"
   ]
  },
  {
   "cell_type": "markdown",
   "metadata": {
    "collapsed": true
   },
   "source": [
    " ## Cargamos los datos en una tabla HDF5"
   ]
  },
  {
   "cell_type": "code",
   "execution_count": 13,
   "metadata": {
    "collapsed": true
   },
   "outputs": [],
   "source": [
    "# Importamos la librería para trabajar con HDF5 y Pandas\n",
    "from pandas import HDFStore, DataFrame"
   ]
  },
  {
   "cell_type": "markdown",
   "metadata": {},
   "source": [
    "Un fichero HDF5 puede contener una estructura de carpetas arbitraria.\n",
    "En este ejercicio utilizaremos un único fichero para guardar todos los datos."
   ]
  },
  {
   "cell_type": "code",
   "execution_count": 14,
   "metadata": {
    "collapsed": false
   },
   "outputs": [
    {
     "name": "stdout",
     "output_type": "stream",
     "text": [
      "(1739420, 3)\n"
     ]
    },
    {
     "data": {
      "text/html": [
       "<div>\n",
       "<table border=\"1\" class=\"dataframe\">\n",
       "  <thead>\n",
       "    <tr style=\"text-align: right;\">\n",
       "      <th></th>\n",
       "      <th>YearMonthDay</th>\n",
       "      <th>Year</th>\n",
       "      <th>PrecipitationNum</th>\n",
       "    </tr>\n",
       "  </thead>\n",
       "  <tbody>\n",
       "    <tr>\n",
       "      <th>251</th>\n",
       "      <td>20140111</td>\n",
       "      <td>2014</td>\n",
       "      <td>0.03</td>\n",
       "    </tr>\n",
       "    <tr>\n",
       "      <th>299</th>\n",
       "      <td>20140113</td>\n",
       "      <td>2014</td>\n",
       "      <td>0.01</td>\n",
       "    </tr>\n",
       "    <tr>\n",
       "      <th>1463</th>\n",
       "      <td>20140130</td>\n",
       "      <td>2014</td>\n",
       "      <td>0.01</td>\n",
       "    </tr>\n",
       "    <tr>\n",
       "      <th>1499</th>\n",
       "      <td>20140101</td>\n",
       "      <td>2014</td>\n",
       "      <td>0.01</td>\n",
       "    </tr>\n",
       "    <tr>\n",
       "      <th>1575</th>\n",
       "      <td>20140104</td>\n",
       "      <td>2014</td>\n",
       "      <td>0.01</td>\n",
       "    </tr>\n",
       "  </tbody>\n",
       "</table>\n",
       "</div>"
      ],
      "text/plain": [
       "      YearMonthDay  Year  PrecipitationNum\n",
       "251       20140111  2014              0.03\n",
       "299       20140113  2014              0.01\n",
       "1463      20140130  2014              0.01\n",
       "1499      20140101  2014              0.01\n",
       "1575      20140104  2014              0.01"
      ]
     },
     "execution_count": 14,
     "metadata": {},
     "output_type": "execute_result"
    }
   ],
   "source": [
    "# Asignamos nombre a la tabla y al fichero HDF5 de trabajo\n",
    "hdf5tbl = \"tabla/hdf5_precipitaciones\"\n",
    "hdf5filename = \"hdf5_precipitaciones.h5\"\n",
    "\n",
    "# Eliminamos el fichero de trabajo si estuviera creado\n",
    "try:\n",
    "    os.remove(hdf5filename)\n",
    "except OSError:\n",
    "    pass\n",
    "\n",
    "hdf = HDFStore(hdf5filename)\n",
    "\n",
    "# Guardamos el dataframe en el fichero hdf5\n",
    "hdf.put(hdf5tbl, df, format='table', data_columns=True)\n",
    "\n",
    "# Mostramos información de la tabla HDF5\n",
    "print hdf[hdf5tbl].shape\n",
    "hdf[hdf5tbl].head()"
   ]
  },
  {
   "cell_type": "markdown",
   "metadata": {
    "collapsed": true
   },
   "source": [
    "## Hacemos los cálculos con la tabla HDF5"
   ]
  },
  {
   "cell_type": "code",
   "execution_count": 15,
   "metadata": {
    "collapsed": false
   },
   "outputs": [
    {
     "name": "stdout",
     "output_type": "stream",
     "text": [
      "\n",
      "*** Fecha de mayor precipitación:\n",
      "Fecha........: PrecipitationNum    20141016\n",
      "dtype: int64\n",
      "Precipitación: PrecipitationNum    13010140.27\n",
      "dtype: float64\n",
      "\n",
      "*** Año de mayor precipitación:\n",
      "Year\n",
      "2014    30.783033\n",
      "2015    10.200522\n",
      "Name: PrecipitationNum, dtype: float64\n",
      "Year\n",
      "2014    30.783033\n",
      "2015    10.200522\n",
      "Name: PrecipitationNum, dtype: float64\n",
      "\n",
      "*** Tiempo de cálculo:\n",
      "1.675 sg.\n"
     ]
    }
   ],
   "source": [
    "# Tomamos el tiempo al inicio de los cálculos\n",
    "timeIniHDF5 = time()\n",
    "\n",
    "# Calculamos el día que ha habido más precipitaciones\n",
    "print '\\n*** Fecha de mayor precipitación:'\n",
    "dfByDay = hdf[hdf5tbl][['YearMonthDay', 'PrecipitationNum']].groupby('YearMonthDay').aggregate(np.sum)\n",
    "print \"Fecha........:\", dfByDay.idxmax()\n",
    "print \"Precipitación:\", dfByDay.max()\n",
    "\n",
    "# Calculamos el año en que ha habido más precipitaciones (obteniendo la media de cada año)\n",
    "print '\\n*** Año de mayor precipitación:'\n",
    "\n",
    "dfByDay = hdf[hdf5tbl].groupby(['Year'])\n",
    "dfByDay['PrecipitationNum'].aggregate(np.mean)\n",
    "print(dfByDay['PrecipitationNum'].aggregate(np.mean))\n",
    "\n",
    "dfByYear = df.groupby(['Year'])\n",
    "dfByYear['PrecipitationNum'].aggregate(np.mean)\n",
    "annualAverage = dfByYear['PrecipitationNum'].aggregate(np.mean)\n",
    "print(annualAverage)\n",
    "\n",
    "# Tomamos el tiempo al final de los cálculos y obtenemos el tiempo total\n",
    "timeFinHDF5 = time() \n",
    "timeExeHDF5 = timeFinHDF5 - timeIniHDF5\n",
    "print '\\n*** Tiempo de cálculo:'\n",
    "print round(timeExeHDF5, 3), 'sg.'"
   ]
  },
  {
   "cell_type": "code",
   "execution_count": 16,
   "metadata": {
    "collapsed": false
   },
   "outputs": [
    {
     "name": "stdout",
     "output_type": "stream",
     "text": [
      "Tamaño en disco: 48757296\n"
     ]
    }
   ],
   "source": [
    "# Obtenemos el tamaño de los datos en disco\n",
    "sizeDisk = hdf.root.tabla.hdf5_precipitaciones.table.size_on_disk\n",
    "print \"Tamaño en disco:\", sizeDisk"
   ]
  },
  {
   "cell_type": "markdown",
   "metadata": {
    "collapsed": true
   },
   "source": [
    "## Comparamos los resultados"
   ]
  },
  {
   "cell_type": "code",
   "execution_count": 17,
   "metadata": {
    "collapsed": false
   },
   "outputs": [
    {
     "name": "stdout",
     "output_type": "stream",
     "text": [
      "*** Cálculos con data frame\n",
      "- Tiempo de ejecución: 0.368 sg.\n",
      "- Tamaño en memoria..: 5218260\n",
      "\n",
      "*** Cálculos con tabla HDF5\n",
      "- Tiempo de ejecución: 1.675 sg.\n",
      "- Tamaño en disco....: 48757296\n"
     ]
    }
   ],
   "source": [
    "print '*** Cálculos con data frame'\n",
    "print '- Tiempo de ejecución:', round(timeExeDF, 3), 'sg.'\n",
    "print '- Tamaño en memoria..:', sizeMemory\n",
    "print ''\n",
    "print '*** Cálculos con tabla HDF5'\n",
    "print '- Tiempo de ejecución:', round(timeExeHDF5, 3), 'sg.'\n",
    "print '- Tamaño en disco....:', sizeDisk\n"
   ]
  },
  {
   "cell_type": "markdown",
   "metadata": {},
   "source": [
    "Como podemos ver, el tiempo de ejecución y el tamaño del conjunto de datos han sido menores con el data frame que con la tabla HDF5.\n",
    "\n",
    "NOTTA: ¿No debería haber sido al contrario?..."
   ]
  },
  {
   "cell_type": "markdown",
   "metadata": {},
   "source": [
    "## Guardamos el resumen en una tabla HDF5 y vemos el tiempo que tarda en recuperarse"
   ]
  },
  {
   "cell_type": "code",
   "execution_count": 18,
   "metadata": {
    "collapsed": true
   },
   "outputs": [],
   "source": [
    "# Importanos librerías\n",
    "import tables as tb\n",
    "from tables import IsDescription,  Int64Col, Float64Col "
   ]
  },
  {
   "cell_type": "code",
   "execution_count": 19,
   "metadata": {
    "collapsed": false
   },
   "outputs": [
    {
     "name": "stdout",
     "output_type": "stream",
     "text": [
      "Media Anual 2014\n",
      "(2014, 30.783032757442573)\n",
      "Media Anual 2015\n",
      "(2015, 10.200521592665215)\n",
      "\n",
      "*** Tiempo de cálculo:\n",
      "0.001 sg.\n"
     ]
    }
   ],
   "source": [
    "# Asignamos nombre a la tabla y al fichero HDF5 de trabajo\n",
    "hdf5filename = \"hdf5_resumen.h5\"\n",
    "\n",
    "# Eliminamos el fichero de trabajo si estuviera creado\n",
    "try:\n",
    "    os.remove(hdf5filename)\n",
    "except OSError:\n",
    "    pass\n",
    "\n",
    "# Creamos un fichero HDF5 en modo append\n",
    "h5file = tb.open_file(hdf5filename, mode=\"a\", Title=\"Taba resumen\")\n",
    "\n",
    "dt = np.dtype([('Year', int), ('Precipitaciones', float)])\n",
    "rows = np.array([(2014, annualAverage[0]), (2015, annualAverage[1])], dtype=dt)\n",
    "\n",
    "# Creación de una tabla con la estructura creada con el constructor dt\n",
    "h5file.create_table(\"/\", \"precipitaciones\", dt)\n",
    "\n",
    "# Append row\n",
    "h5file.root.precipitaciones.append(rows)\n",
    "\n",
    "# Recuperamos los datos\n",
    "timeIniHDF5 = time()\n",
    "print (\"Media Anual 2014\")\n",
    "print h5file.root.precipitaciones[0]\n",
    "print (\"Media Anual 2015\")\n",
    "print h5file.root.precipitaciones[1]\n",
    "timeFinHDF5 = time()\n",
    "timeExeHDF5 = timeFinHDF5 - timeIniHDF5\n",
    "print '\\n*** Tiempo de cálculo:'\n",
    "print round(timeExeHDF5, 3), 'sg.'"
   ]
  },
  {
   "cell_type": "code",
   "execution_count": 20,
   "metadata": {
    "collapsed": false
   },
   "outputs": [
    {
     "name": "stdout",
     "output_type": "stream",
     "text": [
      "/ (RootGroup) ''\n",
      "/precipitaciones (Table(2,)) ''\n"
     ]
    }
   ],
   "source": [
    "for node in h5file:\n",
    "    print(node)"
   ]
  },
  {
   "cell_type": "code",
   "execution_count": 21,
   "metadata": {
    "collapsed": false
   },
   "outputs": [
    {
     "data": {
      "text/plain": [
       "<bound method File.close of File(filename=hdf5_resumen.h5, title='', mode='a', root_uep='/', filters=Filters(complevel=0, shuffle=False, fletcher32=False, least_significant_digit=None))\n",
       "/ (RootGroup) ''\n",
       "/precipitaciones (Table(2,)) ''\n",
       "  description := {\n",
       "  \"Year\": Int64Col(shape=(), dflt=0, pos=0),\n",
       "  \"Precipitaciones\": Float64Col(shape=(), dflt=0.0, pos=1)}\n",
       "  byteorder := 'little'\n",
       "  chunkshape := (4096,)\n",
       ">"
      ]
     },
     "execution_count": 21,
     "metadata": {},
     "output_type": "execute_result"
    }
   ],
   "source": [
    "# Cerramos el fichero HDF5\n",
    "h5file.close"
   ]
  },
  {
   "cell_type": "markdown",
   "metadata": {},
   "source": [
    "# Referencias:\n",
    "\n",
    "- [Crear y leer ficheros ZIP](http://python-esp.blogspot.com.es/2010/02/crear-y-leer-ficheros-zip.html)\n",
    "- [Lectura y escritura de ficheros](https://amatellanes.wordpress.com/2013/05/06/lectura-y-escritura-de-ficheros-en-python/)"
   ]
  },
  {
   "cell_type": "code",
   "execution_count": null,
   "metadata": {
    "collapsed": true
   },
   "outputs": [],
   "source": []
  }
 ],
 "metadata": {
  "kernelspec": {
   "display_name": "Python 2",
   "language": "python",
   "name": "python2"
  },
  "language_info": {
   "codemirror_mode": {
    "name": "ipython",
    "version": 2
   },
   "file_extension": ".py",
   "mimetype": "text/x-python",
   "name": "python",
   "nbconvert_exporter": "python",
   "pygments_lexer": "ipython2",
   "version": "2.7.11"
  }
 },
 "nbformat": 4,
 "nbformat_minor": 0
}
